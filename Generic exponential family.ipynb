{
 "cells": [
  {
   "cell_type": "code",
   "execution_count": 1,
   "metadata": {
    "collapsed": true
   },
   "outputs": [],
   "source": [
    "from sympy import Function, Derivative, var, simplify, collect, expand, factor, Matrix\n",
    "from sympy.abc import x, y, z, t\n",
    "from sympy import diff, hessian, exp, log, pi, sqrt, lambdify, ask, Q, assuming\n",
    "from sympy import Function, Symbol, hessian, Matrix, Inverse, var, log, diff, simplify, gamma"
   ]
  },
  {
   "cell_type": "markdown",
   "metadata": {},
   "source": [
    "### Exponential distribution"
   ]
  },
  {
   "cell_type": "code",
   "execution_count": 10,
   "metadata": {
    "collapsed": false
   },
   "outputs": [
    {
     "name": "stdout",
     "output_type": "stream",
     "text": [
      "th*x - exp(th) - log(gamma(x + 1))\n",
      "F :  exp(th)\n",
      "exp(th)\n"
     ]
    }
   ],
   "source": [
    "x = var('x')\n",
    "th = Symbol('th')\n",
    "s = x\n",
    "lb = exp(th)\n",
    "k = -log(gamma(x+1))\n",
    "F = exp(th)\n",
    "logf = s * th + k - F\n",
    "print(logf)\n",
    "params = [th]\n",
    "print(\"F : \", F)\n",
    "gradF = diff(F, th)\n",
    "print(gradF)\n"
   ]
  },
  {
   "cell_type": "code",
   "execution_count": null,
   "metadata": {
    "collapsed": true
   },
   "outputs": [],
   "source": [
    "\n",
    "w1, w2, w3 = Symbol('w1'), Symbol('w2'), Symbol('w3')\n",
    "F1, F2, F3, F4 = Function('F1')(t1), Function('F2')(t2), Function('F3')(t3), Function('F4')(t4)\n",
    "x = var('x')\n",
    "s1, s2, s3 = Function('s1')(x), Function('s2')(x), Function('s3')(x), Function('s4')(x)\n",
    "z1, z2, z3, z4 = var('z1 z2 z3 z4')\n",
    "z = Matrix(3, 1, [z1, z2, z3])\n",
    "lw = Matrix(3, 1, [log(w1), log(w2), log(w3)])\n",
    "F = Matrix(3, 1, [-F1, -F2, -F3])\n",
    "T = Matrix(3, 1, [t1, t2, t3])\n",
    "sxz = Matrix(6, 1, [z1, z1*s1, z2, z2*s2, z3, z3*s3])\n",
    "tc = Matrix(6, 1, [log(w1)-F1,t1,log(w2)-F2,t2,log(1-w1-w2)-F3,t3])\n",
    "logp = sxz.T * tc \n",
    "params = [w1, w2, t1, t2, t3]\n",
    "G = Matrix([diff(logp, p) for p in params])\n",
    "H = simplify(hessian(logp,params))\n",
    "IH = Inverse(H)"
   ]
  }
 ],
 "metadata": {
  "kernelspec": {
   "display_name": "Python 3",
   "language": "python",
   "name": "python3"
  },
  "language_info": {
   "codemirror_mode": {
    "name": "ipython",
    "version": 3
   },
   "file_extension": ".py",
   "mimetype": "text/x-python",
   "name": "python",
   "nbconvert_exporter": "python",
   "pygments_lexer": "ipython3",
   "version": "3.5.1"
  }
 },
 "nbformat": 4,
 "nbformat_minor": 0
}
