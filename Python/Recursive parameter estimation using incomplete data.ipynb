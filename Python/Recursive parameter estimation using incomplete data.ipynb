{
 "cells": [
  {
   "cell_type": "code",
   "execution_count": 51,
   "metadata": {
    "collapsed": false
   },
   "outputs": [],
   "source": [
    "import scipy.stats as scs\n",
    "from sympy import Function, Symbol, symbols, var, simplify, factor, Matrix, diag\n",
    "from sympy import MatMul, Inverse\n",
    "#from sympy.abc import x, y, z, t\n",
    "from sympy import diff, hessian, exp, log, pi, sqrt, lambdify, ask, Q, assuming"
   ]
  },
  {
   "cell_type": "code",
   "execution_count": 30,
   "metadata": {
    "collapsed": false
   },
   "outputs": [
    {
     "name": "stdout",
     "output_type": "stream",
     "text": [
      " ----- Gradient -------- \n",
      "Matrix([[estZ1/w1 - estZ4/(-w1 - w2 - w3 + 1)], [estZ2/w2 - estZ4/(-w1 - w2 - w3 + 1)], [estZ3/w3 - estZ4/(-w1 - w2 - w3 + 1)], [estZ1*(s1(x) - Derivative(F1(t1), t1))], [estZ2*(s2(x) - Derivative(F2(t2), t2))], [estZ3*(s3(x) - Derivative(F3(t3), t3))], [estZ4*(s4(x) - Derivative(F4(t4), t4))]])\n",
      " ----- Hessienne -------- \n",
      "Matrix([[-Z1/w1**2 - Z4/(-w1 - w2 - w3 + 1)**2, -Z4/(-w1 - w2 - w3 + 1)**2, -Z4/(-w1 - w2 - w3 + 1)**2, 0, 0, 0, 0], [-Z4/(-w1 - w2 - w3 + 1)**2, -Z2/w2**2 - Z4/(-w1 - w2 - w3 + 1)**2, -Z4/(-w1 - w2 - w3 + 1)**2, 0, 0, 0, 0], [-Z4/(-w1 - w2 - w3 + 1)**2, -Z4/(-w1 - w2 - w3 + 1)**2, -Z3/w3**2 - Z4/(-w1 - w2 - w3 + 1)**2, 0, 0, 0, 0], [0, 0, 0, -Z1*Derivative(F1(t1), t1, t1), 0, 0, 0], [0, 0, 0, 0, -Z2*Derivative(F2(t2), t2, t2), 0, 0], [0, 0, 0, 0, 0, -Z3*Derivative(F3(t3), t3, t3), 0], [0, 0, 0, 0, 0, 0, -Z4*Derivative(F4(t4), t4, t4)]])\n",
      " ----- Ic -------- \n",
      "Matrix([\n",
      "[-(-w2 - w3 + 1)/(w1*(w1 + w2 + w3 - 1)),                   -1/(w1 + w2 + w3 - 1),                   -1/(w1 + w2 + w3 - 1),                             0,                             0,                             0,                                              0],\n",
      "[                  -1/(w1 + w2 + w3 - 1), -(-w1 - w3 + 1)/(w2*(w1 + w2 + w3 - 1)),                   -1/(w1 + w2 + w3 - 1),                             0,                             0,                             0,                                              0],\n",
      "[                  -1/(w1 + w2 + w3 - 1),                   -1/(w1 + w2 + w3 - 1), -(-w1 - w2 + 1)/(w3*(w1 + w2 + w3 - 1)),                             0,                             0,                             0,                                              0],\n",
      "[                                      0,                                       0,                                       0, w1*Derivative(F1(t1), t1, t1),                             0,                             0,                                              0],\n",
      "[                                      0,                                       0,                                       0,                             0, w2*Derivative(F2(t2), t2, t2),                             0,                                              0],\n",
      "[                                      0,                                       0,                                       0,                             0,                             0, w3*Derivative(F3(t3), t3, t3),                                              0],\n",
      "[                                      0,                                       0,                                       0,                             0,                             0,                             0, -(w1 + w2 + w3 - 1)*Derivative(F4(t4), t4, t4)]])\n",
      " ----- invIc -------- \n",
      "Matrix([\n",
      "[w1**2*w2/((w3 - 1)*(w2 + w3 - 1)) + w1*(w1 + w2 + w3 - 1)/(w2 + w3 - 1) + w3*(w3 - 1)*(-w1*w2*(-w1/((w2 + w3 - 1)*(w1 + w2 + w3 - 1)) - 1/(w1 + w2 + w3 - 1))/(w3 - 1) + w1/(w2 + w3 - 1))*(w1*w2*(-w1/((w2 + w3 - 1)*(w1 + w2 + w3 - 1)) - 1/(w1 + w2 + w3 - 1))/(w3 - 1) - w1/(w2 + w3 - 1)), w1*w2/(w3 - 1) - w2*w3*(-w1/((w2 + w3 - 1)*(w1 + w2 + w3 - 1)) - 1/(w1 + w2 + w3 - 1))*(w1*w2*(-w1/((w2 + w3 - 1)*(w1 + w2 + w3 - 1)) - 1/(w1 + w2 + w3 - 1))/(w3 - 1) - w1/(w2 + w3 - 1))*(w2 + w3 - 1), w3*(w3 - 1)*(w1*w2*(-w1/((w2 + w3 - 1)*(w1 + w2 + w3 - 1)) - 1/(w1 + w2 + w3 - 1))/(w3 - 1) - w1/(w2 + w3 - 1)),                                 0,                                 0,                                 0,                                                  0],\n",
      "[                                                                                     w1*w2/(w3 - 1) + w2*w3*(-w1/((w2 + w3 - 1)*(w1 + w2 + w3 - 1)) - 1/(w1 + w2 + w3 - 1))*(-w1*w2*(-w1/((w2 + w3 - 1)*(w1 + w2 + w3 - 1)) - 1/(w1 + w2 + w3 - 1))/(w3 - 1) + w1/(w2 + w3 - 1))*(w2 + w3 - 1),                                                                       -w2**2*w3*(-w1/((w2 + w3 - 1)*(w1 + w2 + w3 - 1)) - 1/(w1 + w2 + w3 - 1))**2*(w2 + w3 - 1)**2/(w3 - 1) + w2*(w2 + w3 - 1)/(w3 - 1),                             w2*w3*(-w1/((w2 + w3 - 1)*(w1 + w2 + w3 - 1)) - 1/(w1 + w2 + w3 - 1))*(w2 + w3 - 1),                                 0,                                 0,                                 0,                                                  0],\n",
      "[                                                                                                                                                                             -w3*(w3 - 1)*(-w1*w2*(-w1/((w2 + w3 - 1)*(w1 + w2 + w3 - 1)) - 1/(w1 + w2 + w3 - 1))/(w3 - 1) + w1/(w2 + w3 - 1)),                                                                                                                      w2*w3*(-w1/((w2 + w3 - 1)*(w1 + w2 + w3 - 1)) - 1/(w1 + w2 + w3 - 1))*(w2 + w3 - 1),                                                                                                    -w3*(w3 - 1),                                 0,                                 0,                                 0,                                                  0],\n",
      "[                                                                                                                                                                                                                                                                                             0,                                                                                                                                                                                                        0,                                                                                                               0, 1/(w1*Derivative(F1(t1), t1, t1)),                                 0,                                 0,                                                  0],\n",
      "[                                                                                                                                                                                                                                                                                             0,                                                                                                                                                                                                        0,                                                                                                               0,                                 0, 1/(w2*Derivative(F2(t2), t2, t2)),                                 0,                                                  0],\n",
      "[                                                                                                                                                                                                                                                                                             0,                                                                                                                                                                                                        0,                                                                                                               0,                                 0,                                 0, 1/(w3*Derivative(F3(t3), t3, t3)),                                                  0],\n",
      "[                                                                                                                                                                                                                                                                                             0,                                                                                                                                                                                                        0,                                                                                                               0,                                 0,                                 0,                                 0, 1/((-w1 - w2 - w3 + 1)*Derivative(F4(t4), t4, t4))]])\n",
      " ----- MAJ -------- \n",
      "Matrix([\n",
      "[                                     -estZ1*w1 + estZ1 - estZ2*w1 - estZ3*w1 - estZ4*w1],\n",
      "[                                     -estZ1*w2 - estZ2*w2 + estZ2 - estZ3*w2 - estZ4*w2],\n",
      "[                                     -estZ1*w3 - estZ2*w3 - estZ3*w3 + estZ3 - estZ4*w3],\n",
      "[               -estZ1*(-s1(x) + Derivative(F1(t1), t1))/(w1*Derivative(F1(t1), t1, t1))],\n",
      "[               -estZ2*(-s2(x) + Derivative(F2(t2), t2))/(w2*Derivative(F2(t2), t2, t2))],\n",
      "[               -estZ3*(-s3(x) + Derivative(F3(t3), t3))/(w3*Derivative(F3(t3), t3, t3))],\n",
      "[estZ4*(-s4(x) + Derivative(F4(t4), t4))/((w1 + w2 + w3 - 1)*Derivative(F4(t4), t4, t4))]])\n",
      " ----- Conclusion -------- \n",
      " [ estZ1 - w1 ] \n",
      " [ estZ2 - w2 ] \n",
      " [ estZ3 - w3 ] \n",
      " [(estZ1/w1)*H(F1)^-1*(s1(x) - F1(t1) ] \n",
      " [(estZ2/w2)*H(F2)^-1*(s2(x) - F2(t2) ] \n",
      " [(estZ3/w3)*H(F3)^-1*(s3(x) - F3(t3) ] \n",
      " [(estZ4/w4)*H(F4)^-1*(s4(x) - F4(t4) ] \n",
      " ----- Conclusion -------- \n"
     ]
    }
   ],
   "source": [
    "t1, t2, t3, t4, x = var('t1'), var('t2'), var('t3'), var('t4'), var('x')\n",
    "w1, w2, w3 = Symbol('w1'), Symbol('w2'), Symbol('w3')\n",
    "w4 = 1 - w1 - w2 - w3\n",
    "s1, s2, s3, s4 = Function('s1')(x), Function('s2')(x), Function('s3')(x), Function('s4')(x)\n",
    "k1, k2, k3, k4 = Function('k1')(x), Function('k2')(x), Function('k3')(x), Function('k4')(x)\n",
    "F1, F2, F3, F4 = Function('F1')(t1), Function('F2')(t2), Function('F3')(t3), Function('F4')(t4)\n",
    "Z1, Z2, Z3, Z4 = var('Z1'), var('Z2'), var('Z3'),  var('Z4')\n",
    "estZ1, estZ2, estZ3, estZ4 = var('estZ1'), var('estZ2'), var('estZ3'),  var('estZ4')\n",
    "\n",
    "J  = Z1* (log(w1) + s1*t1 + k1 - F1)\n",
    "J += Z2 *(log(w2) + s2*t2 + k2 - F2)\n",
    "J += Z3 *(log(w3) + s3*t3 + k3 - F3)\n",
    "J += Z4 *(log(w4) + s4*t4 + k4 - F4)\n",
    "params_th = [w1, w2, w3, t1, t2, t3, t4]\n",
    "\n",
    "logf = Matrix(7,1,[diff(J, p) for p in params_th]).subs([(Z1,estZ1), (Z2, estZ2), (Z3, estZ3), (Z4, estZ4)])\n",
    "\n",
    "H = hessian(J, params_th)\n",
    "Ic = -simplify(H.subs([(Z1, w1), (Z2, w2), (Z3, w3), (Z4, w4)]))\n",
    "Ic_inv  = Ic.inv()\n",
    "#g = diff(F, [w1, w2, w3, t1, t2, t3])\n",
    "print(' ----- Gradient -------- ')\n",
    "print(logf)\n",
    "print(' ----- Hessienne -------- ')\n",
    "print(H)\n",
    "print(' ----- Ic -------- ')\n",
    "print(Ic)\n",
    "print(' ----- invIc -------- ')\n",
    "print(Ic_inv)\n",
    "print(' ----- MAJ -------- ')\n",
    "maj = Ic_inv*logf\n",
    "print(factor(simplify(maj)))\n",
    "print(' ----- Conclusion -------- ')\n",
    "print(' [ estZ1 - w1 ] ')\n",
    "print(' [ estZ2 - w2 ] ')\n",
    "print(' [ estZ3 - w3 ] ')\n",
    "print(' [(estZ1/w1)*H(F1)^-1*(s1(x) - grad F1(t1) ] ')\n",
    "print(' [(estZ2/w2)*H(F2)^-1*(s2(x) - grad F2(t2) ] ')\n",
    "print(' [(estZ3/w3)*H(F3)^-1*(s3(x) - grad F3(t3) ] ')\n",
    "print(' [(estZ4/w4)*H(F4)^-1*(s4(x) - grad F4(t4) ] ')\n",
    "print(' ----- Conclusion -------- ')\n",
    "#print(simplify(H_inv*G))\n",
    "#H = np.array([[diff(g[m], p) for m in range(len(g))] for p in params])\n",
    "#print (H)\n",
    "#print(diff(exp(x), [x, x]))"
   ]
  },
  {
   "cell_type": "code",
   "execution_count": null,
   "metadata": {
    "collapsed": true
   },
   "outputs": [],
   "source": [
    "e1, e2, e3, e4 = var('e1'), var('e2'), var('e3'), var('e4')\n",
    "th2e1 = Function('th2e1')(t1, t2, t3, t4)\n",
    "th2e2 = Function('th2e2')(t1, t2, t3, t4)\n",
    "th2e3 = Function('th2e3')(t1, t2, t3, t4)\n",
    "th2e4 = Function('th2e4')(t1, t2, t3, t4)\n",
    "params_et = [w1,w2,w3,e1,e2,e3,e4]\n",
    "th2et = Matrix([w1,w2,w3, th2eta1, th2eta2, th2eta3, th2eta4])\n",
    ">>> Y = Matrix([rho, phi])\n",
    ">>> X.jacobian(Y)"
   ]
  },
  {
   "cell_type": "markdown",
   "metadata": {},
   "source": [
    "### Example 3.4"
   ]
  },
  {
   "cell_type": "code",
   "execution_count": 56,
   "metadata": {
    "collapsed": false
   },
   "outputs": [
    {
     "name": "stdout",
     "output_type": "stream",
     "text": [
      "Z1*(-t11**2/(4*t12) + t11*x - t12*x**2 + log(w1) - log(pi/t12)/2) + Z2*(-t21**2/(4*t22) + t21*x - t22*x**2 - log(pi/t22)/2 + log(-w1 + 1))\n",
      "Matrix([\n",
      "[                           estZ1/w1 + estZ2/(w1 - 1)],\n",
      "[                        -estZ1*t11/(2*t12) + estZ1*x],\n",
      "[estZ1*t11**2/(4*t12**2) - estZ1*x**2 + estZ1/(2*t12)],\n",
      "[                        -estZ2*t21/(2*t22) + estZ2*x],\n",
      "[estZ2*t21**2/(4*t22**2) - estZ2*x**2 + estZ2/(2*t22)]])\n",
      "Matrix([\n",
      "[-1/(w1*(w1 - 1)),                  0,                            0,                       0,                                   0],\n",
      "[               0,         w1/(2*t12),           -t11*w1/(2*t12**2),                       0,                                   0],\n",
      "[               0, -t11*w1/(2*t12**2), w1*(t11**2 + t12)/(2*t12**3),                       0,                                   0],\n",
      "[               0,                  0,                            0,       -(w1 - 1)/(2*t22),             t21*(w1 - 1)/(2*t22**2)],\n",
      "[               0,                  0,                            0, t21*(w1 - 1)/(2*t22**2), -(t21**2 + t22)*(w1 - 1)/(2*t22**3)]])\n",
      "Matrix([\n",
      "[                                                       -estZ1*(w1 - 1) - estZ2*w1],\n",
      "[     estZ1*(-t11**3 + 4*t11**2*t12*x - 4*t11*t12**2*x**2 + 4*t12**2*x)/(2*t12*w1)],\n",
      "[                     -estZ1*(t11**2 - 4*t11*t12*x + 4*t12**2*x**2 - 2*t12)/(2*w1)],\n",
      "[estZ2*(t21**3 - 4*t21**2*t22*x + 4*t21*t22**2*x**2 - 4*t22**2*x)/(2*t22*(w1 - 1))],\n",
      "[                estZ2*(t21**2 - 4*t21*t22*x + 4*t22**2*x**2 - 2*t22)/(2*(w1 - 1))]])\n"
     ]
    }
   ],
   "source": [
    "w1, t11, t12, t21, t22, x = symbols('w1 t11 t12 t21 t22 x')\n",
    "w2 = 1 - w1\n",
    "s, t1, t2 = Matrix(2,1,[x,-x*x]), Matrix(2,1,[t11, t12]), Matrix(2,1,[t21,t22])\n",
    "\n",
    "def F(theta1,theta2):\n",
    "    return theta1*theta1/(4*theta2) + log(pi/theta2)/2\n",
    "\n",
    "F1 = t11*t11/(4*t12) + log(pi/t12)/2\n",
    "F2 = t21*t21/(4*t22) + log(pi/t22)/2\n",
    "Z1, Z2 = var('Z1'), var('Z2')\n",
    "estZ1, estZ2 = var('estZ1'), var('estZ2')\n",
    "\n",
    "J  = Z1 *(log(w1) + (s.T*t1)[0] - F1) + Z2 *(log(w2) + (s.T*t2)[0] - F2)\n",
    "print(J)\n",
    "params_th = [w1,t11,t12,t21,t22]\n",
    "\n",
    "logf = Matrix([diff(J, p) for p in params_th]).subs([(Z1,estZ1), (Z2, estZ2)])\n",
    "print(simplify(logf))\n",
    "H = hessian(J, params_th)\n",
    "Ic = -simplify(H.subs([(Z1, w1), (Z2, w2)]))\n",
    "print(Ic)\n",
    "Ic_inv  = Ic.inv()\n",
    "maj = simplify(Ic_inv*logf)\n",
    "mu1, var1, mu2, var2 = symbols('mu1 var1 mu2 var2')\n",
    "print(maj)"
   ]
  },
  {
   "cell_type": "code",
   "execution_count": null,
   "metadata": {
    "collapsed": false
   },
   "outputs": [],
   "source": [
    "p = lambda y, mu, phi: exp(-(y-mu)**2/(2*phi))/sqrt(2*pi*phi)\n",
    "g = theta1*p(y, mu1, phi1) + (1-theta1) * p(y, mu2, phi2)\n",
    "w1 = theta1*p(y,mu1, phi1) / g\n",
    "w2 = (1 - theta1)*p(y, mu2, phi2) / g\n",
    "dtheta1 = diff(log(g), theta1)\n",
    "dmu1, dmu2 = diff(log(g), mu1), diff(log(g), mu2)\n",
    "dphi1, dphi2 = diff(log(g), phi1), diff(log(g), phi2)\n",
    "score = simplify(Matrix(5,1,[dtheta1, dmu1, dmu2, dphi1, dphi2]))"
   ]
  },
  {
   "cell_type": "markdown",
   "metadata": {},
   "source": [
    "## joint distribution"
   ]
  },
  {
   "cell_type": "markdown",
   "metadata": {},
   "source": [
    "###### score = simplify(Matrix(5,1,[dtheta1, dmu1, dmu2, dphi1, dphi2]))\n",
    "#outer = score * score.T\n",
    "#print(simplify(outer))\n",
    "H = hessian(log(g), [theta1, mu1, mu2, phi1, phi2])\n",
    "print(simplify(H[0,0]))\n"
   ]
  },
  {
   "cell_type": "code",
   "execution_count": null,
   "metadata": {
    "collapsed": false
   },
   "outputs": [],
   "source": [
    "u = Matrix(2,1,[log(theta1), log(1-theta1)])\n",
    "v = Matrix(2,1,[log(p(y, mu1, phi1)), log(p(y, mu2, phi2))])\n",
    "z1, z2 = var('z1 z2')\n",
    "z = Matrix(2, 1, [z1, z2])\n",
    "logf = z.T * u + z.T * v\n",
    "H = simplify(hessian(logf, [theta1, mu1, mu2, phi1, phi2]))\n",
    "for i in range(5):\n",
    "    print(H[i,i])\n",
    "\n",
    "print(simplify(diff(z.T * u, theta1, theta1)))\n",
    "print(simplify(diff(z1*log(p(y, mu1, phi1)), mu1, mu1)))  \n",
    "print(simplify(diff(z1*log(p(y, mu1, phi1)), phi1, phi1)))"
   ]
  },
  {
   "cell_type": "markdown",
   "metadata": {},
   "source": [
    "##### "
   ]
  },
  {
   "cell_type": "code",
   "execution_count": null,
   "metadata": {
    "collapsed": false
   },
   "outputs": [],
   "source": [
    "invIc = diag(theta1*(1-theta1), theta1/phi1, (1-theta1)/phi2, theta1/(2*phi1**2), (1-theta1)/(2*phi2**2))\n",
    "print(simplify(invIc*score))"
   ]
  },
  {
   "cell_type": "code",
   "execution_count": 49,
   "metadata": {
    "collapsed": false
   },
   "outputs": [
    {
     "data": {
      "text/plain": [
       "Matrix([\n",
       "[t21],\n",
       "[t22]])"
      ]
     },
     "execution_count": 49,
     "metadata": {},
     "output_type": "execute_result"
    }
   ],
   "source": [
    "s, t1, t2 = Matrix(2,1,[x,-x*x]), Matrix(2,1,[t11, t12]), Matrix(2,1,[t21,t22])\n",
    "t1\n"
   ]
  },
  {
   "cell_type": "code",
   "execution_count": null,
   "metadata": {
    "collapsed": true
   },
   "outputs": [],
   "source": []
  }
 ],
 "metadata": {
  "kernelspec": {
   "display_name": "Python 3",
   "language": "python",
   "name": "python3"
  },
  "language_info": {
   "codemirror_mode": {
    "name": "ipython",
    "version": 3
   },
   "file_extension": ".py",
   "mimetype": "text/x-python",
   "name": "python",
   "nbconvert_exporter": "python",
   "pygments_lexer": "ipython3",
   "version": "3.5.1"
  }
 },
 "nbformat": 4,
 "nbformat_minor": 0
}
