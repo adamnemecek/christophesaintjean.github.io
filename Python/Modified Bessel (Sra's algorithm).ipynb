{
 "cells": [
  {
   "cell_type": "markdown",
   "metadata": {},
   "source": [
    "Here is a partial implementation of the paper: <br />\n",
    "\"*A short note on parameter approximation for von Mises-Fisher distributions\n",
    "And a fast implementation of Is(x)*\"<br /> by Suvrit Sra"
   ]
  },
  {
   "cell_type": "code",
   "execution_count": null,
   "metadata": {
    "collapsed": false
   },
   "outputs": [],
   "source": [
    "from scipy.special import iv as iv_scipy\n",
    "from numpy import pi, power, exp, sqrt\n",
    "from gmpy2 import mpfr, gamma, factorial, const_pi\n",
    "from gmpy2 import exp as gmpexp\n",
    "from gmpy2 import sqrt as gmpsqrt\n",
    "from gmpy2 import get_context\n",
    "get_context().precision = 300"
   ]
  },
  {
   "cell_type": "code",
   "execution_count": 2,
   "metadata": {
    "collapsed": true
   },
   "outputs": [],
   "source": [
    "def iv_s_paper(s, x, tau):\n",
    "    \"\"\"\n",
    "    Computing Is(x) via truncated power-series (Paper version) \n",
    "    Beware : algorithmic issue !!\n",
    "    \"\"\"\n",
    "    R, t1, t2 = 1., pow(x * exp(1.) / (2 * s), s), \\\n",
    "            1. \\\n",
    "            + 1. / (12 * s) \\\n",
    "            + 1. / (288 * s * s) \\\n",
    "            - 139. / (51840 * s * s * s)\n",
    "    t1 = t1 * sqrt(s / (2 * pi)) / t2\n",
    "    M, k, const_rat = 1. / s, 1, 0.25 * x * x\n",
    "    convergence = False\n",
    "    while not convergence:\n",
    "        R = R * const_rat / (k * (s + k))\n",
    "        M += R\n",
    "        if R / M < tau:\n",
    "            convergence = True\n",
    "        k += 1\n",
    "    return t1 * M"
   ]
  },
  {
   "cell_type": "code",
   "execution_count": 3,
   "metadata": {
    "collapsed": false
   },
   "outputs": [],
   "source": [
    "def iv_s(s, x, tau):\n",
    "    \"\"\"\n",
    "    Computing Is(x) via truncated power-series (corrected version) \n",
    "    \"\"\"\n",
    "    t1, t2 = pow(x * exp(1.) / (2 * s), s), \\\n",
    "            1. \\\n",
    "            + 1. / (12 * s) \\\n",
    "            + 1. / (288 * s * s) \\\n",
    "            - 139. / (51840 * s * s * s)\n",
    "    t1 *= sqrt(s / (2 * pi)) / t2\n",
    "    k, tk, const_rat = 0, 1. / s, x * x / 4.    \n",
    "    M = tk\n",
    "    convergence = False\n",
    "    while not convergence:\n",
    "        R = const_rat / ((k + 1) * (s + k + 1))\n",
    "        tk *= R\n",
    "        k += 1\n",
    "        M += tk\n",
    "        if tk / M < tau:\n",
    "            convergence = True\n",
    "    return t1 * M"
   ]
  },
  {
   "cell_type": "code",
   "execution_count": 4,
   "metadata": {
    "collapsed": false
   },
   "outputs": [],
   "source": [
    "def iv_s(s, x, tau):\n",
    "    \"\"\"\n",
    "    Computing Is(x) via truncated power-series (corrected version) \n",
    "    \"\"\"\n",
    "    t1, t2 = power(x * exp(1.) / (2 * s), s), \\\n",
    "            1. \\\n",
    "            + 1. / (12 * s) \\\n",
    "            + 1. / (288 * s * s) \\\n",
    "            - 139. / (51840 * s * s * s)\n",
    "    t1 *= sqrt(s / (2 * pi)) / t2\n",
    "    k, tk, const_rat = 0, 1. / s, x * x / 4.\n",
    "    M = tk\n",
    "    convergence = False\n",
    "    while not convergence:\n",
    "        ratio = const_rat / ((k + 1) * (s + k + 1))\n",
    "        tk *= ratio\n",
    "        M += tk\n",
    "        k += 1\n",
    "        if tk / M < tau:\n",
    "            convergence = True\n",
    "    return t1 * M"
   ]
  },
  {
   "cell_type": "code",
   "execution_count": 8,
   "metadata": {
    "collapsed": false
   },
   "outputs": [],
   "source": [
    "def iv_s_mpfr(s, x, tau):\n",
    "    s, x = mpfr(s), mpfr(x)\n",
    "    t1 = pow(x * gmpexp(1.) / (2 * s), s)\n",
    "    t2 = 1.+ 1. / (12 * s) + 1. / (288 * s * s) - 139. / (51840 * s * s * s)\n",
    "    t1 = t1 * gmpsqrt(s / (2 * const_pi())) / t2\n",
    "    k, tk, const_rat = 0, 1. / s, x * x / 4\n",
    "    M = tk\n",
    "    convergence = False\n",
    "    while not convergence:\n",
    "        ratio = const_rat / ((k + 1) * (s + k + 1))\n",
    "        tk *= ratio\n",
    "        M += tk\n",
    "        if tk / M < tau:\n",
    "            convergence = True\n",
    "        k += 1\n",
    "    return t1 * M"
   ]
  },
  {
   "cell_type": "code",
   "execution_count": 16,
   "metadata": {
    "collapsed": false
   },
   "outputs": [],
   "source": [
    "def iv_s_eq7 (s, x, order=100):\n",
    "    s, x = mpfr(s), mpfr(x)\n",
    "    t1 = pow(x / 2, s)\n",
    "    t2 = mpfr(0)\n",
    "    k = 0\n",
    "    t2 = sum(pow(x * x / 4, k) / (gamma(k + s + 1) * factorial(k)) for k in range(order))\n",
    "    return t1 * t2\n",
    "\n",
    "def iv_s_eq8 (s, x, order=100):\n",
    "    s, x = mpfr(s), mpfr(x)\n",
    "    t1 = pow(x / 2, s) / gamma(s)\n",
    "    t2 = mpfr(0)\n",
    "    k = 0\n",
    "    s_prod = s\n",
    "    while k < order:\n",
    "        t2 += pow(x * x / 4, k) / (s_prod * factorial(k))   \n",
    "        k += 1\n",
    "        s_prod *= s + k\n",
    "    return t1 * t2"
   ]
  },
  {
   "cell_type": "markdown",
   "metadata": {},
   "source": [
    "### Verify correctness"
   ]
  },
  {
   "cell_type": "code",
   "execution_count": 25,
   "metadata": {
    "collapsed": false
   },
   "outputs": [
    {
     "name": "stdout",
     "output_type": "stream",
     "text": [
      "-- 200 -- 200 --\n",
      "Scipy :  4.54005913226e+44\n",
      "paper :  9.08011826453e+46 (incorrect)\n",
      "corrected :  4.54005913226e+44\n",
      "mpfr :  4.5400591322630511e+44\n",
      "eq.7 :  4.5400591322637388e+44\n",
      "eq.8 :  4.5400591322637388e+44\n"
     ]
    }
   ],
   "source": [
    "tau = 1e-16\n",
    "order = 1000\n",
    "s = 200\n",
    "v = 200\n",
    "print '--', s , '--', v, '--'\n",
    "print 'Scipy : ', iv_scipy(s, v)\n",
    "print 'paper : ', iv_s_paper(s, v, tau), '(incorrect)'\n",
    "print 'corrected : ',iv_s(s, v, tau)\n",
    "print 'mpfr : ',iv_s_mpfr(s, v, tau)\n",
    "print 'eq.7 : ',iv_s_eq7(s, v, order)\n",
    "print 'eq.8 : ',iv_s_eq8(s, v, order)\n",
    "\n",
    "\n"
   ]
  },
  {
   "cell_type": "markdown",
   "metadata": {},
   "source": [
    "### Speed test\n",
    "\n",
    "Very unfair tests"
   ]
  },
  {
   "cell_type": "code",
   "execution_count": 31,
   "metadata": {
    "collapsed": false
   },
   "outputs": [
    {
     "name": "stdout",
     "output_type": "stream",
     "text": [
      "----- Scipy -----\n",
      "The slowest run took 9.79 times longer than the fastest. This could mean that an intermediate result is being cached \n",
      "100000 loops, best of 3: 2.14 µs per loop\n",
      "----- Paper -----\n",
      "The slowest run took 4.37 times longer than the fastest. This could mean that an intermediate result is being cached \n",
      "100000 loops, best of 3: 8.03 µs per loop\n",
      "----- Paper + MPFR -----\n",
      "10000 loops, best of 3: 43.7 µs per loop\n",
      "----- Eq. 7 ------\n",
      "100 loops, best of 3: 5.58 ms per loop\n",
      "----- Eq. 8 ------\n",
      "1000 loops, best of 3: 797 µs per loop\n"
     ]
    }
   ],
   "source": [
    "s = 5\n",
    "print \"----- Scipy -----\"\n",
    "%timeit iv_scipy(s,s)\n",
    "print \"----- Paper -----\"\n",
    "%timeit iv_s(s,s, tau)\n",
    "print \"----- Paper + MPFR -----\"\n",
    "%timeit iv_s_mpfr(s,s, tau)\n",
    "print \"----- Eq. 7 ------\"\n",
    "%timeit iv_s_eq7(s,s)\n",
    "print \"----- Eq. 8 ------\"\n",
    "%timeit iv_s_eq8(s,s)\n"
   ]
  },
  {
   "cell_type": "markdown",
   "metadata": {},
   "source": [
    " "
   ]
  },
  {
   "cell_type": "code",
   "execution_count": 39,
   "metadata": {
    "collapsed": false
   },
   "outputs": [
    {
     "name": "stderr",
     "output_type": "stream",
     "text": [
      "/opt/local/Library/Frameworks/Python.framework/Versions/2.7/lib/python2.7/site-packages/matplotlib/legend.py:319: UserWarning: Unrecognized location \"bottom right\". Falling back on \"best\"; valid locations are\n",
      "\tright\n",
      "\tcenter left\n",
      "\tupper right\n",
      "\tlower right\n",
      "\tbest\n",
      "\tcenter\n",
      "\tlower left\n",
      "\tcenter right\n",
      "\tupper left\n",
      "\tupper center\n",
      "\tlower center\n",
      "\n",
      "  % (loc, '\\n\\t'.join(six.iterkeys(self.codes))))\n"
     ]
    },
    {
     "data": {
      "text/plain": [
       "<matplotlib.legend.Legend at 0x109dd73d0>"
      ]
     },
     "execution_count": 39,
     "metadata": {},
     "output_type": "execute_result"
    },
    {
     "data": {
      "image/png": "[encoded data removed]",
      "text/plain": [
       "<matplotlib.figure.Figure at 0x108d4d6d0>"
      ]
     },
     "metadata": {},
     "output_type": "display_data"
    }
   ],
   "source": [
    "import matplotlib.pyplot as plt\n",
    "%matplotlib inline\n",
    "plt.\n",
    "\n",
    "S = [2, 22, 222, 2222, 22222]\n",
    "best_tau = 1e-300\n",
    "plt.figure()\n",
    "for s in S:\n",
    "    best = iv_s_mpfr(s, s, tau=best_tau)\n",
    "    rel_err = [iv_s_eq7(s, s, order) / best for order in range(1000)]\n",
    "    plt.plot(range(1000), rel_err, label=\"s={}\".format(s))\n",
    "plt.legend(shadow=True, fancybox=True, loc=\"bottom right\")\n",
    "    \n",
    "        \n",
    "    \n",
    "    "
   ]
  },
  {
   "cell_type": "code",
   "execution_count": 36,
   "metadata": {
    "collapsed": false
   },
   "outputs": [
    {
     "data": {
      "text/plain": [
       "context(precision=100, real_prec=Default, imag_prec=Default,\n",
       "        round=RoundToNearest, real_round=Default, imag_round=Default,\n",
       "        emax=1073741823, emin=-1073741823,\n",
       "        subnormalize=False,\n",
       "        trap_underflow=False, underflow=False,\n",
       "        trap_overflow=False, overflow=False,\n",
       "        trap_inexact=False, inexact=True,\n",
       "        trap_invalid=False, invalid=False,\n",
       "        trap_erange=False, erange=False,\n",
       "        trap_divzero=False, divzero=False,\n",
       "        trap_expbound=False,\n",
       "        allow_complex=False)"
      ]
     },
     "execution_count": 36,
     "metadata": {},
     "output_type": "execute_result"
    }
   ],
   "source": []
  },
  {
   "cell_type": "code",
   "execution_count": null,
   "metadata": {
    "collapsed": true
   },
   "outputs": [],
   "source": []
  },
  {
   "cell_type": "code",
   "execution_count": null,
   "metadata": {
    "collapsed": true
   },
   "outputs": [],
   "source": []
  }
 ],
 "metadata": {
  "kernelspec": {
   "display_name": "Python 2",
   "language": "python",
   "name": "python2"
  },
  "language_info": {
   "codemirror_mode": {
    "name": "ipython",
    "version": 2
   },
   "file_extension": ".py",
   "mimetype": "text/x-python",
   "name": "python",
   "nbconvert_exporter": "python",
   "pygments_lexer": "ipython2",
   "version": "2.7.9"
  },
  "widgets": {
   "state": {},
   "version": "1.1.2"
  }
 },
 "nbformat": 4,
 "nbformat_minor": 0
}
