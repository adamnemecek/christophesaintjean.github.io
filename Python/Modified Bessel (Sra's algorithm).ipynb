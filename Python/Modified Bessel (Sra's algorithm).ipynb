{
 "cells": [
  {
   "cell_type": "markdown",
   "metadata": {},
   "source": [
    "Here is a partial implementation of the paper: <br />\n",
    "\"*A short note on parameter approximation for von Mises-Fisher distributions\n",
    "And a fast implementation of Is(x)*\"<br /> by Suvrit Sra"
   ]
  },
  {
   "cell_type": "code",
   "execution_count": 1,
   "metadata": {
    "collapsed": false
   },
   "outputs": [],
   "source": [
    "from scipy.special import iv as iv_scipy\n",
    "from numpy import pi, power, exp, sqrt\n",
    "from gmpy2 import mpfr, gamma, factorial, const_pi\n",
    "from gmpy2 import exp as gmpexp\n",
    "from gmpy2 import sqrt as gmpsqrt"
   ]
  },
  {
   "cell_type": "code",
   "execution_count": 2,
   "metadata": {
    "collapsed": true
   },
   "outputs": [],
   "source": [
    "def iv_s_paper(s, x, tau):\n",
    "    \"\"\"\n",
    "    Computing Is(x) via truncated power-series (Paper version) \n",
    "    Beware : This has an algorithm issue !!\n",
    "    \"\"\"\n",
    "    R, t1, t2 = 1., pow(x * exp(1.) / (2 * s), s), \\\n",
    "            1. \\\n",
    "            + 1. / (12 * s) \\\n",
    "            + 1. / (288 * s * s) \\\n",
    "            - 139. / (51840 * s * s * s)\n",
    "    t1 = t1 * sqrt(s / (2 * pi)) / t2\n",
    "    M, k, const_rat = 1. / s, 1, 0.25 * x * x\n",
    "    convergence = False\n",
    "    while not convergence:\n",
    "        R = R* const_rat / (k * (s + k))\n",
    "        M += R\n",
    "        if R / M < tau:\n",
    "            convergence = True\n",
    "        k += 1\n",
    "    return t1 * M"
   ]
  },
  {
   "cell_type": "code",
   "execution_count": 3,
   "metadata": {
    "collapsed": false
   },
   "outputs": [],
   "source": [
    "def iv_s(s, x, tau):\n",
    "    \"\"\"\n",
    "    Computing Is(x) via truncated power-series (corrected version) \n",
    "    \"\"\"\n",
    "    t1, t2 = pow(x * exp(1.) / (2 * s), s), \\\n",
    "            1. \\\n",
    "            + 1. / (12 * s) \\\n",
    "            + 1. / (288 * s * s) \\\n",
    "            - 139. / (51840 * s * s * s)\n",
    "    t1 *= sqrt(s / (2 * pi)) / t2\n",
    "    k, tk, const_rat = 0, 1. / s, x * x / 4.    \n",
    "    M = tk\n",
    "    convergence = False\n",
    "    while not convergence:\n",
    "        R = const_rat / ((k + 1) * (s + k + 1))\n",
    "        tk *= R\n",
    "        k += 1\n",
    "        M += tk\n",
    "        if tk / M < tau:\n",
    "            convergence = True\n",
    "    return t1 * M"
   ]
  },
  {
   "cell_type": "code",
   "execution_count": 4,
   "metadata": {
    "collapsed": false
   },
   "outputs": [],
   "source": [
    "def iv_s_mpfr(s, x, tau):\n",
    "    s, x = mpfr(s), mpfr(x)\n",
    "    R, t1 = 1., pow(x * gmpexp(1.) / (2 * s), s)\n",
    "    t2 = 1.+ 1. / (12 * s) + 1. / (288 * s * s) - 139. / (51840 * s * s * s)\n",
    "    t1 = t1 * gmpsqrt(s / (2 * const_pi())) / t2\n",
    "    k, tk, const_rat = 0, 1. / s, x * x / 4\n",
    "    M = tk\n",
    "    convergence = False\n",
    "    while not convergence:\n",
    "        R = const_rat / ((k + 1) * (s + k + 1))\n",
    "        tk *= R\n",
    "        M += tk\n",
    "        if tk / M < tau:\n",
    "            convergence = True\n",
    "        k += 1\n",
    "    return t1 * M"
   ]
  },
  {
   "cell_type": "code",
   "execution_count": 22,
   "metadata": {
    "collapsed": false
   },
   "outputs": [],
   "source": [
    "def iv_s_eq7 (s, x, order=1000000):\n",
    "    s, x = mpfr(s), mpfr(x)\n",
    "    t1 = pow(x / 2, s)\n",
    "    t2 = mpfr(0)\n",
    "    k = 0\n",
    "    t2 = sum(pow(x * x / 4, k) / (gamma(k + s + 1) * factorial(k)) for k in range(order))\n",
    "    return t1 * t2\n",
    "\n",
    "def iv_s_eq8 (s, x):\n",
    "    s, x = mpfr(s), mpfr(x)\n",
    "    t1 = pow(x / 2, s) / gamma(s)\n",
    "    t2 = mpfr(0)\n",
    "    k = 0\n",
    "    s_prod = s\n",
    "    while k < 2:\n",
    "        t2 += pow(x * x / 4, k) / (s_prod * factorial(k))   \n",
    "        k += 1\n",
    "        s_prod *= s + k\n",
    "    return t1 * t2"
   ]
  },
  {
   "cell_type": "markdown",
   "metadata": {},
   "source": [
    "### Verify correctness"
   ]
  },
  {
   "cell_type": "code",
   "execution_count": 23,
   "metadata": {
    "collapsed": false
   },
   "outputs": [
    {
     "name": "stdout",
     "output_type": "stream",
     "text": [
      "-- 200 -- 200 --\n",
      "Scipy :  4.54005913226e+44\n",
      "paper :  9.08011826453e+46 (incorrect)\n",
      "corrected :  4.54005913226e+44\n",
      "mpfr :  4.5400591322630511e+44\n",
      "eq.7 : "
     ]
    },
    {
     "ename": "KeyboardInterrupt",
     "evalue": "",
     "output_type": "error",
     "traceback": [
      "\u001b[0;31m---------------------------------------------------------------------------\u001b[0m",
      "\u001b[0;31mKeyboardInterrupt\u001b[0m                         Traceback (most recent call last)",
      "\u001b[0;32m<ipython-input-23-60216c08ed45>\u001b[0m in \u001b[0;36m<module>\u001b[0;34m()\u001b[0m\n\u001b[1;32m      7\u001b[0m \u001b[0;32mprint\u001b[0m \u001b[0;34m'corrected : '\u001b[0m\u001b[0;34m,\u001b[0m\u001b[0miv_s\u001b[0m\u001b[0;34m(\u001b[0m\u001b[0ms\u001b[0m\u001b[0;34m,\u001b[0m \u001b[0mv\u001b[0m\u001b[0;34m,\u001b[0m \u001b[0mtau\u001b[0m\u001b[0;34m)\u001b[0m\u001b[0;34m\u001b[0m\u001b[0m\n\u001b[1;32m      8\u001b[0m \u001b[0;32mprint\u001b[0m \u001b[0;34m'mpfr : '\u001b[0m\u001b[0;34m,\u001b[0m\u001b[0miv_s_mpfr\u001b[0m\u001b[0;34m(\u001b[0m\u001b[0ms\u001b[0m\u001b[0;34m,\u001b[0m \u001b[0mv\u001b[0m\u001b[0;34m,\u001b[0m \u001b[0mtau\u001b[0m\u001b[0;34m)\u001b[0m\u001b[0;34m\u001b[0m\u001b[0m\n\u001b[0;32m----> 9\u001b[0;31m \u001b[0;32mprint\u001b[0m \u001b[0;34m'eq.7 : '\u001b[0m\u001b[0;34m,\u001b[0m\u001b[0miv_s_eq7\u001b[0m\u001b[0;34m(\u001b[0m\u001b[0ms\u001b[0m\u001b[0;34m,\u001b[0m \u001b[0mv\u001b[0m\u001b[0;34m)\u001b[0m\u001b[0;34m\u001b[0m\u001b[0m\n\u001b[0m\u001b[1;32m     10\u001b[0m \u001b[0;32mprint\u001b[0m \u001b[0;34m'eq.8 : '\u001b[0m\u001b[0;34m,\u001b[0m\u001b[0miv_s_eq8\u001b[0m\u001b[0;34m(\u001b[0m\u001b[0ms\u001b[0m\u001b[0;34m,\u001b[0m \u001b[0mv\u001b[0m\u001b[0;34m)\u001b[0m\u001b[0;34m\u001b[0m\u001b[0m\n\u001b[1;32m     11\u001b[0m \u001b[0;34m\u001b[0m\u001b[0m\n",
      "\u001b[0;32m<ipython-input-22-deb5f235d1e9>\u001b[0m in \u001b[0;36miv_s_eq7\u001b[0;34m(s, x, order)\u001b[0m\n\u001b[1;32m      4\u001b[0m     \u001b[0mt2\u001b[0m \u001b[0;34m=\u001b[0m \u001b[0mmpfr\u001b[0m\u001b[0;34m(\u001b[0m\u001b[0;36m0\u001b[0m\u001b[0;34m)\u001b[0m\u001b[0;34m\u001b[0m\u001b[0m\n\u001b[1;32m      5\u001b[0m     \u001b[0mk\u001b[0m \u001b[0;34m=\u001b[0m \u001b[0;36m0\u001b[0m\u001b[0;34m\u001b[0m\u001b[0m\n\u001b[0;32m----> 6\u001b[0;31m     \u001b[0mt2\u001b[0m \u001b[0;34m=\u001b[0m \u001b[0msum\u001b[0m\u001b[0;34m(\u001b[0m\u001b[0mpow\u001b[0m\u001b[0;34m(\u001b[0m\u001b[0mx\u001b[0m \u001b[0;34m*\u001b[0m \u001b[0mx\u001b[0m \u001b[0;34m/\u001b[0m \u001b[0;36m4\u001b[0m\u001b[0;34m,\u001b[0m \u001b[0mk\u001b[0m\u001b[0;34m)\u001b[0m \u001b[0;34m/\u001b[0m \u001b[0;34m(\u001b[0m\u001b[0mgamma\u001b[0m\u001b[0;34m(\u001b[0m\u001b[0mk\u001b[0m \u001b[0;34m+\u001b[0m \u001b[0ms\u001b[0m \u001b[0;34m+\u001b[0m \u001b[0;36m1\u001b[0m\u001b[0;34m)\u001b[0m \u001b[0;34m*\u001b[0m \u001b[0mfactorial\u001b[0m\u001b[0;34m(\u001b[0m\u001b[0mk\u001b[0m\u001b[0;34m)\u001b[0m\u001b[0;34m)\u001b[0m \u001b[0;32mfor\u001b[0m \u001b[0mk\u001b[0m \u001b[0;32min\u001b[0m \u001b[0mrange\u001b[0m\u001b[0;34m(\u001b[0m\u001b[0morder\u001b[0m\u001b[0;34m)\u001b[0m\u001b[0;34m)\u001b[0m\u001b[0;34m\u001b[0m\u001b[0m\n\u001b[0m\u001b[1;32m      7\u001b[0m     \u001b[0;32mreturn\u001b[0m \u001b[0mt1\u001b[0m \u001b[0;34m*\u001b[0m \u001b[0mt2\u001b[0m\u001b[0;34m\u001b[0m\u001b[0m\n\u001b[1;32m      8\u001b[0m \u001b[0;34m\u001b[0m\u001b[0m\n",
      "\u001b[0;32m<ipython-input-22-deb5f235d1e9>\u001b[0m in \u001b[0;36m<genexpr>\u001b[0;34m((k,))\u001b[0m\n\u001b[1;32m      4\u001b[0m     \u001b[0mt2\u001b[0m \u001b[0;34m=\u001b[0m \u001b[0mmpfr\u001b[0m\u001b[0;34m(\u001b[0m\u001b[0;36m0\u001b[0m\u001b[0;34m)\u001b[0m\u001b[0;34m\u001b[0m\u001b[0m\n\u001b[1;32m      5\u001b[0m     \u001b[0mk\u001b[0m \u001b[0;34m=\u001b[0m \u001b[0;36m0\u001b[0m\u001b[0;34m\u001b[0m\u001b[0m\n\u001b[0;32m----> 6\u001b[0;31m     \u001b[0mt2\u001b[0m \u001b[0;34m=\u001b[0m \u001b[0msum\u001b[0m\u001b[0;34m(\u001b[0m\u001b[0mpow\u001b[0m\u001b[0;34m(\u001b[0m\u001b[0mx\u001b[0m \u001b[0;34m*\u001b[0m \u001b[0mx\u001b[0m \u001b[0;34m/\u001b[0m \u001b[0;36m4\u001b[0m\u001b[0;34m,\u001b[0m \u001b[0mk\u001b[0m\u001b[0;34m)\u001b[0m \u001b[0;34m/\u001b[0m \u001b[0;34m(\u001b[0m\u001b[0mgamma\u001b[0m\u001b[0;34m(\u001b[0m\u001b[0mk\u001b[0m \u001b[0;34m+\u001b[0m \u001b[0ms\u001b[0m \u001b[0;34m+\u001b[0m \u001b[0;36m1\u001b[0m\u001b[0;34m)\u001b[0m \u001b[0;34m*\u001b[0m \u001b[0mfactorial\u001b[0m\u001b[0;34m(\u001b[0m\u001b[0mk\u001b[0m\u001b[0;34m)\u001b[0m\u001b[0;34m)\u001b[0m \u001b[0;32mfor\u001b[0m \u001b[0mk\u001b[0m \u001b[0;32min\u001b[0m \u001b[0mrange\u001b[0m\u001b[0;34m(\u001b[0m\u001b[0morder\u001b[0m\u001b[0;34m)\u001b[0m\u001b[0;34m)\u001b[0m\u001b[0;34m\u001b[0m\u001b[0m\n\u001b[0m\u001b[1;32m      7\u001b[0m     \u001b[0;32mreturn\u001b[0m \u001b[0mt1\u001b[0m \u001b[0;34m*\u001b[0m \u001b[0mt2\u001b[0m\u001b[0;34m\u001b[0m\u001b[0m\n\u001b[1;32m      8\u001b[0m \u001b[0;34m\u001b[0m\u001b[0m\n",
      "\u001b[0;31mKeyboardInterrupt\u001b[0m: "
     ]
    }
   ],
   "source": [
    "tau = 1e-16\n",
    "s = 200\n",
    "v = 200\n",
    "print '--', s , '--', v, '--'\n",
    "print 'Scipy : ', iv_scipy(s, v)\n",
    "print 'paper : ', iv_s_paper(s, v, tau), '(incorrect)'\n",
    "print 'corrected : ',iv_s(s, v, tau)\n",
    "print 'mpfr : ',iv_s_mpfr(s, v, tau)\n",
    "print 'eq.7 : ',iv_s_eq7(s, v)\n",
    "print 'eq.8 : ',iv_s_eq8(s, v)\n",
    "\n",
    "\n"
   ]
  },
  {
   "cell_type": "markdown",
   "metadata": {},
   "source": [
    "### Speed test"
   ]
  },
  {
   "cell_type": "code",
   "execution_count": 8,
   "metadata": {
    "collapsed": false
   },
   "outputs": [
    {
     "name": "stdout",
     "output_type": "stream",
     "text": [
      "The slowest run took 8.87 times longer than the fastest. This could mean that an intermediate result is being cached \n",
      "100000 loops, best of 3: 2.26 µs per loop\n",
      "The slowest run took 6.13 times longer than the fastest. This could mean that an intermediate result is being cached \n",
      "100000 loops, best of 3: 6.19 µs per loop\n",
      "10000 loops, best of 3: 40.3 µs per loop\n",
      "1000 loops, best of 3: 362 µs per loop\n",
      "10000 loops, best of 3: 123 µs per loop\n",
      "The slowest run took 9.77 times longer than the fastest. This could mean that an intermediate result is being cached \n",
      "100000 loops, best of 3: 2.05 µs per loop\n",
      "The slowest run took 5.46 times longer than the fastest. This could mean that an intermediate result is being cached \n",
      "100000 loops, best of 3: 6.03 µs per loop\n",
      "10000 loops, best of 3: 39.8 µs per loop\n",
      "1000 loops, best of 3: 362 µs per loop\n",
      "10000 loops, best of 3: 119 µs per loop\n",
      "The slowest run took 9.39 times longer than the fastest. This could mean that an intermediate result is being cached \n",
      "100000 loops, best of 3: 2.13 µs per loop\n",
      "The slowest run took 4.20 times longer than the fastest. This could mean that an intermediate result is being cached \n",
      "100000 loops, best of 3: 5.96 µs per loop\n",
      "10000 loops, best of 3: 41.3 µs per loop\n",
      "1000 loops, best of 3: 393 µs per loop\n",
      "10000 loops, best of 3: 125 µs per loop\n",
      "The slowest run took 10.02 times longer than the fastest. This could mean that an intermediate result is being cached \n",
      "100000 loops, best of 3: 2.09 µs per loop\n",
      "The slowest run took 6.11 times longer than the fastest. This could mean that an intermediate result is being cached \n",
      "100000 loops, best of 3: 6.05 µs per loop\n",
      "10000 loops, best of 3: 39.8 µs per loop\n",
      "1000 loops, best of 3: 396 µs per loop\n",
      "10000 loops, best of 3: 122 µs per loop\n",
      "The slowest run took 9.81 times longer than the fastest. This could mean that an intermediate result is being cached \n",
      "100000 loops, best of 3: 2.04 µs per loop\n",
      "The slowest run took 4.49 times longer than the fastest. This could mean that an intermediate result is being cached \n",
      "100000 loops, best of 3: 6.05 µs per loop\n",
      "10000 loops, best of 3: 40.5 µs per loop\n",
      "1000 loops, best of 3: 365 µs per loop\n",
      "10000 loops, best of 3: 120 µs per loop\n",
      "The slowest run took 10.27 times longer than the fastest. This could mean that an intermediate result is being cached \n",
      "100000 loops, best of 3: 2.04 µs per loop\n",
      "100000 loops, best of 3: 6.1 µs per loop\n",
      "10000 loops, best of 3: 40.9 µs per loop\n",
      "1000 loops, best of 3: 373 µs per loop\n",
      "10000 loops, best of 3: 123 µs per loop\n",
      "The slowest run took 9.53 times longer than the fastest. This could mean that an intermediate result is being cached \n",
      "100000 loops, best of 3: 2.1 µs per loop\n",
      "The slowest run took 6.27 times longer than the fastest. This could mean that an intermediate result is being cached \n",
      "100000 loops, best of 3: 6.09 µs per loop\n",
      "10000 loops, best of 3: 40.6 µs per loop\n",
      "1000 loops, best of 3: 386 µs per loop\n",
      "10000 loops, best of 3: 125 µs per loop\n",
      "The slowest run took 9.71 times longer than the fastest. This could mean that an intermediate result is being cached \n",
      "100000 loops, best of 3: 2.06 µs per loop\n",
      "The slowest run took 4.56 times longer than the fastest. This could mean that an intermediate result is being cached \n",
      "100000 loops, best of 3: 6.17 µs per loop\n",
      "10000 loops, best of 3: 40.3 µs per loop\n",
      "1000 loops, best of 3: 370 µs per loop\n",
      "10000 loops, best of 3: 122 µs per loop\n",
      "The slowest run took 9.67 times longer than the fastest. This could mean that an intermediate result is being cached \n",
      "100000 loops, best of 3: 2.17 µs per loop\n",
      "The slowest run took 4.54 times longer than the fastest. This could mean that an intermediate result is being cached \n",
      "100000 loops, best of 3: 6.4 µs per loop\n",
      "10000 loops, best of 3: 43.2 µs per loop\n",
      "1000 loops, best of 3: 375 µs per loop\n",
      "10000 loops, best of 3: 122 µs per loop\n",
      "The slowest run took 9.20 times longer than the fastest. This could mean that an intermediate result is being cached \n",
      "100000 loops, best of 3: 2.18 µs per loop\n",
      "The slowest run took 4.45 times longer than the fastest. This could mean that an intermediate result is being cached \n",
      "100000 loops, best of 3: 6.32 µs per loop\n",
      "10000 loops, best of 3: 41.9 µs per loop\n",
      "1000 loops, best of 3: 380 µs per loop\n",
      "10000 loops, best of 3: 127 µs per loop\n"
     ]
    }
   ],
   "source": [
    "s = 5\n",
    "for _ in range(10):\n",
    "    %timeit iv_scipy(s,s)\n",
    "    %timeit iv_s(s,s, tau)\n",
    "    %timeit iv_s_mpfr(s,s, tau)\n",
    "    %timeit iv_s_eq7(s,s)\n",
    "    %timeit iv_s_eq8(s,s)\n"
   ]
  },
  {
   "cell_type": "markdown",
   "metadata": {},
   "source": []
  },
  {
   "cell_type": "code",
   "execution_count": null,
   "metadata": {
    "collapsed": true
   },
   "outputs": [],
   "source": [
    "s  = 5e5\n",
    "\n",
    "t_scipy = ["
   ]
  },
  {
   "cell_type": "code",
   "execution_count": null,
   "metadata": {
    "collapsed": true
   },
   "outputs": [],
   "source": []
  },
  {
   "cell_type": "code",
   "execution_count": null,
   "metadata": {
    "collapsed": true
   },
   "outputs": [],
   "source": []
  },
  {
   "cell_type": "code",
   "execution_count": null,
   "metadata": {
    "collapsed": true
   },
   "outputs": [],
   "source": []
  }
 ],
 "metadata": {
  "kernelspec": {
   "display_name": "Python 2",
   "language": "python",
   "name": "python2"
  },
  "language_info": {
   "codemirror_mode": {
    "name": "ipython",
    "version": 2
   },
   "file_extension": ".py",
   "mimetype": "text/x-python",
   "name": "python",
   "nbconvert_exporter": "python",
   "pygments_lexer": "ipython2",
   "version": "2.7.9"
  }
 },
 "nbformat": 4,
 "nbformat_minor": 0
}
