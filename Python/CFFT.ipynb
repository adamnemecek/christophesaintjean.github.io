{
 "cells": [
  {
   "cell_type": "markdown",
   "metadata": {},
   "source": [
    "## Clifford Fourier Transform for color images\n",
    "\n",
    "This code corresponds the implementation described in:\n",
    "\"Color object recognition based on a clifford fourier transform\". \n",
    "Jose Mennesson, Christophe Saint-Jean, and Laurent Mascarilla. \n",
    "In book \"Guide to Geometric Algebra in Practice\". Springer, 2011.\n",
    "\n",
    "Python code here is an adaptation of Matlab code by the previous authors."
   ]
  },
  {
   "cell_type": "markdown",
   "metadata": {},
   "source": [
    "### Mathematical description"
   ]
  },
  {
   "cell_type": "code",
   "execution_count": 2,
   "metadata": {
    "collapsed": false
   },
   "outputs": [
    {
     "ename": "ImportError",
     "evalue": "No module named 'sympy'",
     "output_type": "error",
     "traceback": [
      "\u001b[0;31m---------------------------------------------------------------------------\u001b[0m",
      "\u001b[0;31mImportError\u001b[0m                               Traceback (most recent call last)",
      "\u001b[0;32m<ipython-input-2-a6739558a7ca>\u001b[0m in \u001b[0;36m<module>\u001b[0;34m()\u001b[0m\n\u001b[0;32m----> 1\u001b[0;31m \u001b[0;32mfrom\u001b[0m \u001b[0msympy\u001b[0m\u001b[0;34m.\u001b[0m\u001b[0mgalgebra\u001b[0m \u001b[0;32mimport\u001b[0m \u001b[0;34m*\u001b[0m\u001b[0;34m\u001b[0m\u001b[0m\n\u001b[0m",
      "\u001b[0;31mImportError\u001b[0m: No module named 'sympy'"
     ]
    }
   ],
   "source": [
    "from sympy.galgebra import *\n"
   ]
  },
  {
   "cell_type": "markdown",
   "metadata": {},
   "source": [
    "### Signal processing implementation"
   ]
  },
  {
   "cell_type": "code",
   "execution_count": 3,
   "metadata": {
    "collapsed": false
   },
   "outputs": [
    {
     "ename": "ImportError",
     "evalue": "cannot import name 'imread'",
     "output_type": "error",
     "traceback": [
      "\u001b[0;31m---------------------------------------------------------------------------\u001b[0m",
      "\u001b[0;31mImportError\u001b[0m                               Traceback (most recent call last)",
      "\u001b[0;32m<ipython-input-3-89d524637e5e>\u001b[0m in \u001b[0;36m<module>\u001b[0;34m()\u001b[0m\n\u001b[0;32m----> 1\u001b[0;31m \u001b[0;32mfrom\u001b[0m \u001b[0mscipy\u001b[0m\u001b[0;34m.\u001b[0m\u001b[0mmisc\u001b[0m \u001b[0;32mimport\u001b[0m \u001b[0mimread\u001b[0m\u001b[0;34m\u001b[0m\u001b[0m\n\u001b[0m\u001b[1;32m      2\u001b[0m \u001b[0;34m\u001b[0m\u001b[0m\n\u001b[1;32m      3\u001b[0m \u001b[0;31m## Get Image from file\u001b[0m\u001b[0;34m\u001b[0m\u001b[0;34m\u001b[0m\u001b[0m\n\u001b[1;32m      4\u001b[0m \u001b[0;32mdef\u001b[0m \u001b[0mimage_from_file\u001b[0m\u001b[0;34m(\u001b[0m\u001b[0mfilename\u001b[0m\u001b[0;34m)\u001b[0m\u001b[0;34m:\u001b[0m\u001b[0;34m\u001b[0m\u001b[0m\n\u001b[1;32m      5\u001b[0m     \u001b[0;32mreturn\u001b[0m \u001b[0mimread\u001b[0m\u001b[0;34m(\u001b[0m\u001b[0mfilename\u001b[0m\u001b[0;34m)\u001b[0m\u001b[0;34m\u001b[0m\u001b[0m\n",
      "\u001b[0;31mImportError\u001b[0m: cannot import name 'imread'"
     ]
    }
   ],
   "source": [
    "from scipy.misc import imread\n",
    "\n",
    "## Get Image from file\n",
    "def image_from_file(filename): \n",
    "    return imread(filename)\n",
    "## Get Image for url\n",
    "def image_from_url(url):\n",
    "    from requests import get\n",
    "    from StringIO import StringIO   \n",
    "    return image_from_file(StringIO(get(url).content))"
   ]
  },
  {
   "cell_type": "code",
   "execution_count": null,
   "metadata": {
    "collapsed": false
   },
   "outputs": [],
   "source": [
    "import matplotlib.pyplot as plt\n",
    "%matplotlib inline\n",
    "urls =['https://hal.archives-ouvertes.fr/hal-00332912v2/file/Fhouse_color.png',\n",
    "       'http://www.cs.cmu.edu/~chuck/lennapg/lena_std.tif']\n",
    "# just to open image from url\n",
    "image = image_from_url(urls[0])[:,:,:3]/255.\n",
    "plt.imshow(image)\n",
    "plt.show()\n",
    " "
   ]
  },
  {
   "cell_type": "code",
   "execution_count": null,
   "metadata": {
    "collapsed": false
   },
   "outputs": [],
   "source": [
    "import numpy as np\n",
    "\n",
    "def get_basis(c1, c2 = None):\n",
    "    c1 /= np.linalg.norm(c1)\n",
    "    if c2 is None:  \n",
    "        mu = np.ones(3)\n",
    "        if np.allclose(np.cross(c1, mu), np.zeros(3)):\n",
    "            mu = np.array([1.,0.,0.])\n",
    "        c3 = np.cross(c1,np.cross(mu,c1))\n",
    "        c3 /= np.linalg.norm(c3)\n",
    "        c4 = np.cross(c3, c1)\n",
    "        assert(np.allclose(np.linalg.norm(c4), 1.))\n",
    "        return np.append(c1,0.), np.array([0,0,0,1.]), np.append(c3,0.), np.append(c4,0.)\n",
    "    else:\n",
    "        c3 = np.cross(c1, c2)\n",
    "        c3 /= np.linalg.norm(c3)\n",
    "        c2 = -np.cross(c1, c3)\n",
    "        assert(np.allclose(np.linalg.norm(c2), 1.))\n",
    "        return np.append(c1,0), np.append(c2,0), np.append(c3,0), np.array([0,0,0,1.])"
   ]
  },
  {
   "cell_type": "code",
   "execution_count": null,
   "metadata": {
    "collapsed": false
   },
   "outputs": [],
   "source": [
    "from mpl_toolkits.mplot3d import Axes3D\n",
    "from matplotlib.patches import FancyArrowPatch\n",
    "from mpl_toolkits.mplot3d import proj3d\n",
    "\n",
    "class Arrow3D(FancyArrowPatch):\n",
    "    def __init__(self, xs, ys, zs, *args, **kwargs):\n",
    "        FancyArrowPatch.__init__(self, (0,0), (0,0), *args, **kwargs)\n",
    "        self._verts3d = xs, ys, zs\n",
    "\n",
    "    def draw(self, renderer):\n",
    "        xs3d, ys3d, zs3d = self._verts3d\n",
    "        xs, ys, zs = proj3d.proj_transform(xs3d, ys3d, zs3d, renderer.M)\n",
    "        self.set_positions((xs[0],ys[0]),(xs[1],ys[1]))\n",
    "        FancyArrowPatch.draw(self, renderer)\n",
    "\n",
    "B = get_basis(np.array([1.,0,0]))\n",
    "fig = plt.figure(figsize = (10, 8))\n",
    "ax = fig.gca(projection='3d')\n",
    "ax.set_aspect(\"equal\")\n",
    "a = Arrow3D([0, B[0][0]], [0, B[0][1]], [0, B[0][2]] , mutation_scale=20, lw=2, arrowstyle=\"-|>\", color=\"r\")\n",
    "ax.add_artist(a)\n",
    "a = Arrow3D([0, B[2][0]], [0, B[2][1]], [0, B[2][2]] , mutation_scale=20, lw=2, arrowstyle=\"-|>\", color=\"g\")\n",
    "ax.add_artist(a)\n",
    "a = Arrow3D([0, B[3][0]], [0, B[3][1]], [0, B[3][2]] , mutation_scale=20, lw=2, arrowstyle=\"-|>\", color=\"b\")\n",
    "ax.add_artist(a)\n",
    "plt.draw()\n",
    "plt.show()"
   ]
  },
  {
   "cell_type": "code",
   "execution_count": null,
   "metadata": {
    "collapsed": true
   },
   "outputs": [],
   "source": [
    "def cfft2(image, basis, reconstruction = False):\n",
    "    h,l,chan = image.shape\n",
    "    if chan == 4:\n",
    "        pass\n",
    "    elif chan == 3:\n",
    "        image = np.dstack((image, np.zeros((h,l)))) # add a fourth component with 0\n",
    "    else:\n",
    "        raise ValueError\n",
    "    # Computation of two FFT2s on the two projected Image\n",
    "    output = { 'parallel' : np.fft.fft2(np.dot(image, basis[0]) + 1j* np.dot(image, basis[1])),\n",
    "              'orthogonal': np.fft.fft2(np.dot(image, basis[2]) + 1j *np.dot(image, basis[3]))}\n",
    "    if reconstruction is True:\n",
    "        output['reconstruction'] = np.outer(output['parallel'].real,basis[0])\n",
    "        output['reconstruction'] += np.outer(output['parallel'].imag, basis[1])\n",
    "        output['reconstruction'] += np.outer(output['orthogonal'].real, basis[2])\n",
    "        output['reconstruction'] += np.outer(output['orthogonal'].imag, basis[3])\n",
    "        output['reconstruction'] = np.reshape(output['reconstruction'],(h,l,4))\n",
    "    return output\n"
   ]
  },
  {
   "cell_type": "code",
   "execution_count": null,
   "metadata": {
    "collapsed": false
   },
   "outputs": [],
   "source": [
    "def icfft2(tf_image, basis):\n",
    "    if tf_image.has_key('parallel') and tf_image.has_key('orthogonal'):\n",
    "        h,l = tf_image['parallel'].shape\n",
    "        _ = np.fft.ifft2(tf_image['parallel'])\n",
    "        image = np.outer(_.real, basis[0])\n",
    "        image += np.outer(_.imag, basis[1])\n",
    "        _ = np.fft.ifft2(tf_image['orthogonal'])\n",
    "        image += np.outer(_.real, basis[2])\n",
    "        image += np.outer(_.imag, basis[3])      \n",
    "    elif fft_image.has_key('reconstruction'):\n",
    "        _ = tf_image['reconstruction']\n",
    "        return icfft2({'parallel' : np.dot(_, basis[0]) + 1j* np.dot(_, basis[1]),\n",
    "                       'orthogonal' : np.dot(_, basis[2]) + 1j* np.dot(_, basis[3])}, basis)\n",
    "    elif fft_image.shape[2] == 4:\n",
    "        return icfft2({'reconstruction' : tf_image}, basis)\n",
    "    else:\n",
    "        raise ValueError  \n",
    "    return np.reshape(image, (h,l,4))"
   ]
  },
  {
   "cell_type": "code",
   "execution_count": null,
   "metadata": {
    "collapsed": false
   },
   "outputs": [],
   "source": [
    "from IPython.html.widgets import interact\n",
    "from IPython.html import widgets\n",
    "r_slider = widgets.IntSlider(min=0, max=255, step=1, value=255)\n",
    "g_slider = widgets.IntSlider(min=0, max=255, step=1, value=0)\n",
    "b_slider = widgets.IntSlider(min=0, max=255, step=1, value=0)\n",
    "    \n",
    "def f(r,g,b):\n",
    "    basis = get_basis(np.array([r,g,b], dtype=np.double))\n",
    "    R = cfft2(image, basis)\n",
    "    IR = icfft2(R, basis)\n",
    "    fig, ax = plt.subplots(2, 2, figsize=(15,10)) \n",
    "    ax[0,0].imshow(image)\n",
    "    ax[0,0].set_title('Original image')\n",
    "    ax[1,0].imshow(np.log(1+np.abs(np.fft.fftshift(R['parallel']))), plt.cm.Blues)\n",
    "    ax[1,0].set_title('Spectrum in first basis (parallel)')\n",
    "    ax[1,1].imshow(np.log(1+np.abs(np.fft.fftshift(R['orthogonal']))), plt.cm.Blues)\n",
    "    ax[1,1].set_title('Spectrum in second basis (orthogonal)')\n",
    "    ax[0,1].imshow(IR[:,:,:3])\n",
    "    ax[0,1].set_title('Reconstructed image')\n",
    "              \n",
    "interact(f, r=r_slider, g=g_slider, b=b_slider)"
   ]
  },
  {
   "cell_type": "markdown",
   "metadata": {},
   "source": [
    "### Speed considerations"
   ]
  },
  {
   "cell_type": "code",
   "execution_count": null,
   "metadata": {
    "collapsed": false
   },
   "outputs": [],
   "source": [
    "basis = get_basis(np.array([1,0,0], dtype=np.double))\n",
    "%timeit icfft2(cfft2(image, basis), basis)"
   ]
  },
  {
   "cell_type": "code",
   "execution_count": null,
   "metadata": {
    "collapsed": false
   },
   "outputs": [],
   "source": []
  },
  {
   "cell_type": "code",
   "execution_count": null,
   "metadata": {
    "collapsed": true
   },
   "outputs": [],
   "source": []
  }
 ],
 "metadata": {
  "kernelspec": {
   "display_name": "Python 3",
   "language": "python",
   "name": "python3"
  },
  "language_info": {
   "codemirror_mode": {
    "name": "ipython",
    "version": 3
   },
   "file_extension": ".py",
   "mimetype": "text/x-python",
   "name": "python",
   "nbconvert_exporter": "python",
   "pygments_lexer": "ipython3",
   "version": "3.4.3"
  }
 },
 "nbformat": 4,
 "nbformat_minor": 0
}
