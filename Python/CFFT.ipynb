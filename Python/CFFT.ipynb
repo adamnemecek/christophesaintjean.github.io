{
 "cells": [
  {
   "cell_type": "code",
   "execution_count": 1,
   "metadata": {
    "collapsed": false
   },
   "outputs": [
    {
     "name": "stdout",
     "output_type": "stream",
     "text": [
      "/Users/csaintje/.jupyter\n",
      "['/Users/csaintje/.jupyter', '/opt/local/Library/Frameworks/Python.framework/Versions/3.5/etc/jupyter', '/usr/local/etc/jupyter', '/etc/jupyter']\n",
      "['/opt/local/Library/Frameworks/Python.framework/Versions/3.5/lib/python3.5/site-packages']\n",
      "/opt/local/Library/Frameworks/Python.framework/Versions/3.5/bin/python3.5\n"
     ]
    }
   ],
   "source": [
    "from __future__ import print_function\n",
    "from jupyter_core.paths import jupyter_config_dir, jupyter_config_path\n",
    "print(jupyter_config_dir())\n",
    "print(jupyter_config_path())\n",
    "\n",
    "import site, os, sys\n",
    "try:\n",
    "    print(site.getsitepackages())\n",
    "    print(sys.executable)\n",
    "except:\n",
    "    print(os.path.dirname(site.__file__) + '/site-packages')"
   ]
  },
  {
   "cell_type": "code",
   "execution_count": 2,
   "metadata": {
    "collapsed": false
   },
   "outputs": [],
   "source": [
    "import io\n",
    "try:\n",
    "    from scipy.misc import imread\n",
    "except:\n",
    "    print(\"scipy and pillow required for displaying images\")\n",
    "\n",
    "try:\n",
    "    import requests \n",
    "except:\n",
    "    print(\"requests required for downloading images\")\n",
    "\n",
    "import matplotlib.pyplot as plt\n",
    "%matplotlib inline\n",
    "from ipywidgets import interact, interactive\n",
    "from IPython.display import clear_output, display, HTML\n",
    "from mpl_toolkits.mplot3d import Axes3D\n",
    "from matplotlib.patches import FancyArrowPatch\n",
    "from mpl_toolkits.mplot3d import proj3d"
   ]
  },
  {
   "cell_type": "markdown",
   "metadata": {},
   "source": [
    "## Clifford Fourier Transform for color images\n",
    "\n",
    "This code corresponds the implementation described in:\n",
    "\"Color object recognition based on a clifford fourier transform\". \n",
    "Jose Mennesson, Christophe Saint-Jean, and Laurent Mascarilla. \n",
    "In book \"Guide to Geometric Algebra in Practice\". Springer, 2011.\n",
    "\n",
    "Python code here is an adaptation of Matlab code by the previous authors."
   ]
  },
  {
   "cell_type": "markdown",
   "metadata": {},
   "source": [
    "### Mathematical description"
   ]
  },
  {
   "cell_type": "code",
<<<<<<< Updated upstream
   "execution_count": 2,
=======
   "execution_count": 3,
>>>>>>> Stashed changes
   "metadata": {
    "collapsed": false
   },
   "outputs": [
    {
<<<<<<< Updated upstream
     "ename": "ImportError",
     "evalue": "No module named 'sympy'",
     "output_type": "error",
     "traceback": [
      "\u001b[0;31m---------------------------------------------------------------------------\u001b[0m",
      "\u001b[0;31mImportError\u001b[0m                               Traceback (most recent call last)",
      "\u001b[0;32m<ipython-input-2-a6739558a7ca>\u001b[0m in \u001b[0;36m<module>\u001b[0;34m()\u001b[0m\n\u001b[0;32m----> 1\u001b[0;31m \u001b[0;32mfrom\u001b[0m \u001b[0msympy\u001b[0m\u001b[0;34m.\u001b[0m\u001b[0mgalgebra\u001b[0m \u001b[0;32mimport\u001b[0m \u001b[0;34m*\u001b[0m\u001b[0;34m\u001b[0m\u001b[0m\n\u001b[0m",
      "\u001b[0;31mImportError\u001b[0m: No module named 'sympy'"
     ]
    }
   ],
   "source": [
    "from sympy.galgebra import *\n"
   ]
=======
     "name": "stdout",
     "output_type": "stream",
     "text": [
      "/opt/local/Library/Frameworks/Python.framework/Versions/3.5/bin/python3.5\n"
     ]
    }
   ],
   "source": []
>>>>>>> Stashed changes
  },
  {
   "cell_type": "markdown",
   "metadata": {},
   "source": [
    "### Signal processing implementation"
   ]
  },
  {
   "cell_type": "code",
   "execution_count": 3,
   "metadata": {
    "collapsed": false
   },
<<<<<<< Updated upstream
   "outputs": [
    {
     "ename": "ImportError",
     "evalue": "cannot import name 'imread'",
     "output_type": "error",
     "traceback": [
      "\u001b[0;31m---------------------------------------------------------------------------\u001b[0m",
      "\u001b[0;31mImportError\u001b[0m                               Traceback (most recent call last)",
      "\u001b[0;32m<ipython-input-3-89d524637e5e>\u001b[0m in \u001b[0;36m<module>\u001b[0;34m()\u001b[0m\n\u001b[0;32m----> 1\u001b[0;31m \u001b[0;32mfrom\u001b[0m \u001b[0mscipy\u001b[0m\u001b[0;34m.\u001b[0m\u001b[0mmisc\u001b[0m \u001b[0;32mimport\u001b[0m \u001b[0mimread\u001b[0m\u001b[0;34m\u001b[0m\u001b[0m\n\u001b[0m\u001b[1;32m      2\u001b[0m \u001b[0;34m\u001b[0m\u001b[0m\n\u001b[1;32m      3\u001b[0m \u001b[0;31m## Get Image from file\u001b[0m\u001b[0;34m\u001b[0m\u001b[0;34m\u001b[0m\u001b[0m\n\u001b[1;32m      4\u001b[0m \u001b[0;32mdef\u001b[0m \u001b[0mimage_from_file\u001b[0m\u001b[0;34m(\u001b[0m\u001b[0mfilename\u001b[0m\u001b[0;34m)\u001b[0m\u001b[0;34m:\u001b[0m\u001b[0;34m\u001b[0m\u001b[0m\n\u001b[1;32m      5\u001b[0m     \u001b[0;32mreturn\u001b[0m \u001b[0mimread\u001b[0m\u001b[0;34m(\u001b[0m\u001b[0mfilename\u001b[0m\u001b[0;34m)\u001b[0m\u001b[0;34m\u001b[0m\u001b[0m\n",
      "\u001b[0;31mImportError\u001b[0m: cannot import name 'imread'"
     ]
    }
   ],
=======
   "outputs": [],
>>>>>>> Stashed changes
   "source": [
    "## Get Image from file\n",
    "def image_from_file(filename): \n",
    "    return imread(filename)\n",
    "\n",
    "## Get Image for url\n",
    "def image_from_url(url):\n",
    "    return image_from_file(io.BytesIO(requests.get(url).content))"
   ]
  },
  {
   "cell_type": "code",
<<<<<<< Updated upstream
   "execution_count": null,
=======
   "execution_count": 5,
>>>>>>> Stashed changes
   "metadata": {
    "collapsed": false,
    "scrolled": true
   },
<<<<<<< Updated upstream
   "outputs": [],
=======
   "outputs": [
    {
     "data": {
      "image/png": "iVBORw0KGgoAAAANSUhEUgAAAQ0AAAEECAYAAAAyHWHAAAAABHNCSVQICAgIfAhkiAAAAAlwSFlz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\nNAwGQ0QYp2EwGCLCOA2DwRAR/weAcGeGOfaE5gAAAABJRU5ErkJggg==\n",
      "text/plain": [
       "<matplotlib.figure.Figure at 0x106c57588>"
      ]
     },
     "metadata": {},
     "output_type": "display_data"
    }
   ],
>>>>>>> Stashed changes
   "source": [
    "urls =['https://hal.archives-ouvertes.fr/hal-00332912v2/file/Fhouse_color.png',\n",
    "       'http://www.cs.cmu.edu/~chuck/lennapg/lena_std.tif']\n",
    "# just to open image from url\n",
    "image = image_from_url(urls[0])[:,:,:3]/255.\n",
    "plt.imshow(image)\n",
    "plt.show()\n",
    " "
   ]
  },
  {
   "cell_type": "code",
   "execution_count": 6,
   "metadata": {
    "collapsed": false
   },
   "outputs": [],
   "source": [
    "import numpy as np\n",
    "\n",
    "def get_basis(c1, c2 = None):\n",
    "    c1 /= np.linalg.norm(c1)\n",
    "    if c2 is None:  \n",
    "        mu = np.ones(3)\n",
    "        if np.allclose(np.cross(c1, mu), np.zeros(3)):\n",
    "            mu = np.array([1.,0.,0.])\n",
    "        c3 = np.cross(c1,np.cross(mu,c1))\n",
    "        c3 /= np.linalg.norm(c3)\n",
    "        c4 = np.cross(c3, c1)\n",
    "        assert(np.allclose(np.linalg.norm(c4), 1.))\n",
    "        return np.append(c1,0.), np.array([0,0,0,1.]), np.append(c3,0.), np.append(c4,0.)\n",
    "    else:\n",
    "        c3 = np.cross(c1, c2)\n",
    "        c3 /= np.linalg.norm(c3)\n",
    "        c2 = -np.cross(c1, c3)\n",
    "        assert(np.allclose(np.linalg.norm(c2), 1.))\n",
    "        return np.append(c1,0), np.append(c2,0), np.append(c3,0), np.array([0,0,0,1.])"
   ]
  },
  {
   "cell_type": "code",
<<<<<<< Updated upstream
   "execution_count": null,
   "metadata": {
    "collapsed": false
   },
   "outputs": [],
=======
   "execution_count": 7,
   "metadata": {
    "collapsed": false
   },
   "outputs": [
    {
     "data": {
      "image/png": "iVBORw0KGgoAAAANSUhEUgAAAO0AAADtCAYAAABTTfKPAAAABHNCSVQICAgIfAhkiAAAAAlwSFlz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\nRK5CYII=\n",
      "text/plain": [
       "<matplotlib.figure.Figure at 0x10c600898>"
      ]
     },
     "metadata": {},
     "output_type": "display_data"
    }
   ],
>>>>>>> Stashed changes
   "source": [
    "class Arrow3D(FancyArrowPatch):\n",
    "    def __init__(self, xs, ys, zs, *args, **kwargs):\n",
    "        FancyArrowPatch.__init__(self, (0,0), (0,0), *args, **kwargs)\n",
    "        self._verts3d = xs, ys, zs\n",
    "\n",
    "    def draw(self, renderer):\n",
    "        xs3d, ys3d, zs3d = self._verts3d\n",
    "        xs, ys, zs = proj3d.proj_transform(xs3d, ys3d, zs3d, renderer.M)\n",
    "        self.set_positions((xs[0],ys[0]),(xs[1],ys[1]))\n",
    "        FancyArrowPatch.draw(self, renderer)\n",
    "\n",
    "def draw_basis(basis, ax=None):\n",
    "    if ax is None:\n",
    "        fig = plt.figure()\n",
    "        ax = fig.gca(projection='3d')\n",
    "    ax.set_aspect(\"equal\")\n",
    "    a = Arrow3D([0, basis[0][0]], [0, basis[0][1]], [0, basis[0][2]] , mutation_scale=20, lw=2, arrowstyle=\"-|>\", color=\"r\")\n",
    "    ax.add_artist(a)\n",
    "    a = Arrow3D([0, basis[2][0]], [0, basis[2][1]], [0, basis[2][2]] , mutation_scale=20, lw=2, arrowstyle=\"-|>\", color=\"g\")\n",
    "    ax.add_artist(a)\n",
    "    a = Arrow3D([0, basis[3][0]], [0, basis[3][1]], [0, basis[3][2]] , mutation_scale=20, lw=2, arrowstyle=\"-|>\", color=\"b\")\n",
    "    ax.add_artist(a)\n",
    "    return ax\n",
    "\n",
    "ax = draw_basis(get_basis(np.array([1., 0., 0.])))\n",
    "plt.draw()\n",
    "plt.show()"
   ]
  },
  {
   "cell_type": "code",
   "execution_count": 8,
   "metadata": {
    "collapsed": false
   },
   "outputs": [],
   "source": [
    "def cfft2(image, basis, reconstruction = False):\n",
    "    h,l,chan = image.shape\n",
    "    if chan == 4:\n",
    "        pass\n",
    "    elif chan == 3:\n",
    "        image = np.dstack((image, np.zeros((h,l)))) # add a fourth component with 0\n",
    "    else:\n",
    "        raise ValueError\n",
    "    # Computation of two FFT2s on the two projected Image\n",
    "    output = { 'parallel' : np.fft.fft2(np.dot(image, basis[0]) + 1j* np.dot(image, basis[1])),\n",
    "              'orthogonal': np.fft.fft2(np.dot(image, basis[2]) + 1j *np.dot(image, basis[3]))}\n",
    "    if reconstruction is True:\n",
    "        output['reconstruction'] = np.outer(output['parallel'].real,basis[0])\n",
    "        output['reconstruction'] += np.outer(output['parallel'].imag, basis[1])\n",
    "        output['reconstruction'] += np.outer(output['orthogonal'].real, basis[2])\n",
    "        output['reconstruction'] += np.outer(output['orthogonal'].imag, basis[3])\n",
    "        output['reconstruction'] = np.reshape(output['reconstruction'],(h,l,4))\n",
    "    return output\n"
   ]
  },
  {
   "cell_type": "code",
   "execution_count": 9,
   "metadata": {
    "collapsed": false
   },
   "outputs": [],
   "source": [
    "def icfft2(tf_image, basis):\n",
    "    if 'parallel' in tf_image and 'orthogonal' in tf_image:\n",
    "        h,l = tf_image['parallel'].shape\n",
    "        _ = np.fft.ifft2(tf_image['parallel'])\n",
    "        image = np.outer(_.real, basis[0])\n",
    "        image += np.outer(_.imag, basis[1])\n",
    "        _ = np.fft.ifft2(tf_image['orthogonal'])\n",
    "        image += np.outer(_.real, basis[2])\n",
    "        image += np.outer(_.imag, basis[3])      \n",
    "    elif 'reconstruction' in tf_image:\n",
    "        _ = tf_image['reconstruction']\n",
    "        return icfft2({'parallel' : np.dot(_, basis[0]) + 1j* np.dot(_, basis[1]),\n",
    "                       'orthogonal' : np.dot(_, basis[2]) + 1j* np.dot(_, basis[3])}, basis)\n",
    "    elif fft_image.shape[2] == 4:\n",
    "        return icfft2({'reconstruction' : tf_image}, basis)\n",
    "    else:\n",
    "        raise ValueError  \n",
    "    return np.reshape(image, (h,l,4))"
   ]
  },
  {
   "cell_type": "code",
   "execution_count": null,
   "metadata": {
    "collapsed": false
   },
   "outputs": [],
   "source": [
    "def f(r,g,b):\n",
    "    basis = get_basis(np.array([r,g,b], dtype=np.double))\n",
    "    R = cfft2(image, basis)\n",
    "    IR = icfft2(R, basis)\n",
    "    fig, ax = plt.subplots(2, 2, figsize=(15,10)) \n",
    "    ax[0,0].imshow(image)\n",
    "    ax[0,0].set_title('Original image')\n",
    "    ax[1,0].imshow(np.log(1+np.abs(np.fft.fftshift(R['parallel']))), plt.cm.Blues)\n",
    "    ax[1,0].set_title('Spectrum in first basis (parallel)')\n",
    "    ax[1,1].imshow(np.log(1+np.abs(np.fft.fftshift(R['orthogonal']))), plt.cm.Blues)\n",
    "    ax[1,1].set_title('Spectrum in second basis (orthogonal)')\n",
    "    draw_basis(basis, ax[0,1])\n",
    "    ax[0,1].set_title('Basis')\n",
    "              \n",
    "w = interactive(f, r=(0.,255.), g=(0.,255.), b=(0.,255.))\n",
    "display(w)"
   ]
  },
  {
   "cell_type": "markdown",
   "metadata": {},
   "source": [
    "### Speed considerations"
   ]
  },
  {
   "cell_type": "markdown",
   "metadata": {
    "collapsed": false
   },
   "source": [
    "##### basis = get_basis(np.array([1,0,0], dtype=np.double))\n",
    "%timeit icfft2(cfft2(image, basis), basis)"
   ]
  },
  {
   "cell_type": "code",
   "execution_count": null,
   "metadata": {
    "collapsed": false
   },
   "outputs": [],
   "source": []
  },
  {
   "cell_type": "code",
   "execution_count": null,
   "metadata": {
    "collapsed": true
   },
   "outputs": [],
   "source": []
  }
 ],
 "metadata": {
  "kernelspec": {
   "display_name": "Python 3",
   "language": "python",
   "name": "python3"
  },
  "language_info": {
   "codemirror_mode": {
    "name": "ipython",
    "version": 3
   },
   "file_extension": ".py",
   "mimetype": "text/x-python",
   "name": "python",
   "nbconvert_exporter": "python",
   "pygments_lexer": "ipython3",
<<<<<<< Updated upstream
   "version": "3.4.3"
=======
   "version": "3.5.2"
>>>>>>> Stashed changes
  }
 },
 "nbformat": 4,
 "nbformat_minor": 0
}
