{
 "cells": [
  {
   "cell_type": "code",
   "execution_count": 36,
   "metadata": {
    "collapsed": true
   },
   "outputs": [],
   "source": [
    "import scipy.stats as scs\n",
    "from sympy import Function, Symbol, symbols, var, simplify, expand, factor, Matrix, diag\n",
    "from sympy import MatMul, Inverse\n",
    "#from sympy.abc import x, y, z, t\n",
    "from sympy import diff, hessian, exp, log, pi, sqrt, lambdify, ask, Q, assuming, pprint, symarray\n",
    "import numpy as np"
   ]
  },
  {
   "cell_type": "code",
   "execution_count": 56,
   "metadata": {
    "collapsed": false
   },
   "outputs": [
    {
     "name": "stdout",
     "output_type": "stream",
     "text": [
      "⎡  1      0      0      0  ⎤\n",
      "⎢                          ⎥\n",
      "⎢  0      1      0      0  ⎥\n",
      "⎢                          ⎥\n",
      "⎢  0      0      1      0  ⎥\n",
      "⎢                          ⎥\n",
      "⎢  0      0      0      1  ⎥\n",
      "⎢                          ⎥\n",
      "⎢-2⋅x₁    0      0      0  ⎥\n",
      "⎢                          ⎥\n",
      "⎢ -x₂    -x₁     0      0  ⎥\n",
      "⎢                          ⎥\n",
      "⎢ -x₃     0     -x₁     0  ⎥\n",
      "⎢                          ⎥\n",
      "⎢ -x₄     0      0     -x₁ ⎥\n",
      "⎢                          ⎥\n",
      "⎢ -x₂    -x₁     0      0  ⎥\n",
      "⎢                          ⎥\n",
      "⎢  0    -2⋅x₂    0      0  ⎥\n",
      "⎢                          ⎥\n",
      "⎢  0     -x₃    -x₂     0  ⎥\n",
      "⎢                          ⎥\n",
      "⎢  0     -x₄     0     -x₂ ⎥\n",
      "⎢                          ⎥\n",
      "⎢ -x₃     0     -x₁     0  ⎥\n",
      "⎢                          ⎥\n",
      "⎢  0     -x₃    -x₂     0  ⎥\n",
      "⎢                          ⎥\n",
      "⎢  0      0    -2⋅x₃    0  ⎥\n",
      "⎢                          ⎥\n",
      "⎢  0      0     -x₄    -x₃ ⎥\n",
      "⎢                          ⎥\n",
      "⎢ -x₄     0      0     -x₁ ⎥\n",
      "⎢                          ⎥\n",
      "⎢  0     -x₄     0     -x₂ ⎥\n",
      "⎢                          ⎥\n",
      "⎢  0      0     -x₄    -x₃ ⎥\n",
      "⎢                          ⎥\n",
      "⎣  0      0      0    -2⋅x₄⎦\n",
      "⎡0   0   0   0 ⎤\n",
      "⎢              ⎥\n",
      "⎢0   0   0   0 ⎥\n",
      "⎢              ⎥\n",
      "⎢0   0   0   0 ⎥\n",
      "⎢              ⎥\n",
      "⎢0   0   0   0 ⎥\n",
      "⎢              ⎥\n",
      "⎢-2  0   0   0 ⎥\n",
      "⎢              ⎥\n",
      "⎢0   0   0   0 ⎥\n",
      "⎢              ⎥\n",
      "⎢0   0   0   0 ⎥\n",
      "⎢              ⎥\n",
      "⎢0   0   0   0 ⎥\n",
      "⎢              ⎥\n",
      "⎢0   0   0   0 ⎥\n",
      "⎢              ⎥\n",
      "⎢0   -2  0   0 ⎥\n",
      "⎢              ⎥\n",
      "⎢0   0   0   0 ⎥\n",
      "⎢              ⎥\n",
      "⎢0   0   0   0 ⎥\n",
      "⎢              ⎥\n",
      "⎢0   0   0   0 ⎥\n",
      "⎢              ⎥\n",
      "⎢0   0   0   0 ⎥\n",
      "⎢              ⎥\n",
      "⎢0   0   -2  0 ⎥\n",
      "⎢              ⎥\n",
      "⎢0   0   0   0 ⎥\n",
      "⎢              ⎥\n",
      "⎢0   0   0   0 ⎥\n",
      "⎢              ⎥\n",
      "⎢0   0   0   0 ⎥\n",
      "⎢              ⎥\n",
      "⎢0   0   0   0 ⎥\n",
      "⎢              ⎥\n",
      "⎣0   0   0   -2⎦\n"
     ]
    }
   ],
   "source": [
    "x1, x2, x3, x4 = symbols('x1 x2 x3 x4')\n",
    "x = Matrix([x1, x2, x3, x4])\n",
    "t1 = x\n",
    "t2 = -x*x.T\n",
    "t = t1.col_join(t2.vec())\n",
    "K = t.jacobian(x)\n",
    "pprint(K)\n",
    "H = Matrix(4+4*4, 4, lambda i,j: diff(t[i],x[j],x[j]))\n",
    "pprint(H)\n",
    "#H = Matrix([diff(t[i], p, p)])"
   ]
  },
  {
   "cell_type": "code",
   "execution_count": 50,
   "metadata": {
    "collapsed": false
   },
   "outputs": [
    {
     "ename": "AttributeError",
     "evalue": "'MatrixSymbol' object has no attribute 'col_join'",
     "output_type": "error",
     "traceback": [
      "\u001b[0;31m---------------------------------------------------------------------------\u001b[0m",
      "\u001b[0;31mAttributeError\u001b[0m                            Traceback (most recent call last)",
      "\u001b[0;32m<ipython-input-50-618eb1da33d9>\u001b[0m in \u001b[0;36m<module>\u001b[0;34m()\u001b[0m\n\u001b[1;32m      3\u001b[0m \u001b[0mt1\u001b[0m \u001b[0;34m=\u001b[0m \u001b[0mx\u001b[0m\u001b[0;34m\u001b[0m\u001b[0m\n\u001b[1;32m      4\u001b[0m \u001b[0mt2\u001b[0m \u001b[0;34m=\u001b[0m \u001b[0;34m-\u001b[0m\u001b[0mx\u001b[0m\u001b[0;34m*\u001b[0m\u001b[0mx\u001b[0m\u001b[0;34m.\u001b[0m\u001b[0mT\u001b[0m\u001b[0;34m\u001b[0m\u001b[0m\n\u001b[0;32m----> 5\u001b[0;31m \u001b[0mt\u001b[0m \u001b[0;34m=\u001b[0m \u001b[0mt1\u001b[0m\u001b[0;34m.\u001b[0m\u001b[0mcol_join\u001b[0m\u001b[0;34m(\u001b[0m\u001b[0mt2\u001b[0m\u001b[0;34m.\u001b[0m\u001b[0mvec\u001b[0m\u001b[0;34m(\u001b[0m\u001b[0;34m)\u001b[0m\u001b[0;34m)\u001b[0m\u001b[0;34m\u001b[0m\u001b[0m\n\u001b[0m\u001b[1;32m      6\u001b[0m \u001b[0mK\u001b[0m \u001b[0;34m=\u001b[0m \u001b[0mt\u001b[0m\u001b[0;34m.\u001b[0m\u001b[0mjacobian\u001b[0m\u001b[0;34m(\u001b[0m\u001b[0mx\u001b[0m\u001b[0;34m)\u001b[0m\u001b[0;34m\u001b[0m\u001b[0m\n\u001b[1;32m      7\u001b[0m \u001b[0mpprint\u001b[0m\u001b[0;34m(\u001b[0m\u001b[0mK\u001b[0m\u001b[0;34m)\u001b[0m\u001b[0;34m\u001b[0m\u001b[0m\n",
      "\u001b[0;31mAttributeError\u001b[0m: 'MatrixSymbol' object has no attribute 'col_join'"
     ]
    }
   ],
   "source": [
    "from sympy import MatrixSymbol\n",
    "d = 4\n",
    "x = MatrixSymbol('X', d, 1) \n",
    "t1 = x\n",
    "t2 = -x*x.T\n",
    "t = t1.col_join(t2.vec())\n",
    "K = t.jacobian(x)\n",
    "pprint(K)"
   ]
  },
  {
   "cell_type": "code",
   "execution_count": 29,
   "metadata": {
    "collapsed": false
   },
   "outputs": [
    {
     "data": {
      "text/plain": [
       "array([[ 1,  0,  0,  0, -2, -2, -3, -4, -2,  0,  0,  0, -3,  0,  0,  0, -4,\n",
       "         0,  0,  0],\n",
       "       [ 0,  1,  0,  0,  0, -1,  0,  0, -1, -4, -3, -4,  0, -3,  0,  0,  0,\n",
       "        -4,  0,  0],\n",
       "       [ 0,  0,  1,  0,  0,  0, -1,  0,  0,  0, -2,  0, -1, -2, -6, -4,  0,\n",
       "         0, -4,  0],\n",
       "       [ 0,  0,  0,  1,  0,  0,  0, -1,  0,  0,  0, -2,  0,  0,  0, -3, -1,\n",
       "        -2, -3, -8],\n",
       "       [-2,  0,  0,  0,  4,  4,  6,  8,  4,  0,  0,  0,  6,  0,  0,  0,  8,\n",
       "         0,  0,  0],\n",
       "       [-2, -1,  0,  0,  4,  5,  6,  8,  5,  4,  3,  4,  6,  3,  0,  0,  8,\n",
       "         4,  0,  0],\n",
       "       [-3,  0, -1,  0,  6,  6, 10, 12,  6,  0,  2,  0, 10,  2,  6,  4, 12,\n",
       "         0,  4,  0],\n",
       "       [-4,  0,  0, -1,  8,  8, 12, 17,  8,  0,  0,  2, 12,  0,  0,  3, 17,\n",
       "         2,  3,  8],\n",
       "       [-2, -1,  0,  0,  4,  5,  6,  8,  5,  4,  3,  4,  6,  3,  0,  0,  8,\n",
       "         4,  0,  0],\n",
       "       [ 0, -4,  0,  0,  0,  4,  0,  0,  4, 16, 12, 16,  0, 12,  0,  0,  0,\n",
       "        16,  0,  0],\n",
       "       [ 0, -3, -2,  0,  0,  3,  2,  0,  3, 12, 13, 12,  2, 13, 12,  8,  0,\n",
       "        12,  8,  0],\n",
       "       [ 0, -4,  0, -2,  0,  4,  0,  2,  4, 16, 12, 20,  0, 12,  0,  6,  2,\n",
       "        20,  6, 16],\n",
       "       [-3,  0, -1,  0,  6,  6, 10, 12,  6,  0,  2,  0, 10,  2,  6,  4, 12,\n",
       "         0,  4,  0],\n",
       "       [ 0, -3, -2,  0,  0,  3,  2,  0,  3, 12, 13, 12,  2, 13, 12,  8,  0,\n",
       "        12,  8,  0],\n",
       "       [ 0,  0, -6,  0,  0,  0,  6,  0,  0,  0, 12,  0,  6, 12, 36, 24,  0,\n",
       "         0, 24,  0],\n",
       "       [ 0,  0, -4, -3,  0,  0,  4,  3,  0,  0,  8,  6,  4,  8, 24, 25,  3,\n",
       "         6, 25, 24],\n",
       "       [-4,  0,  0, -1,  8,  8, 12, 17,  8,  0,  0,  2, 12,  0,  0,  3, 17,\n",
       "         2,  3,  8],\n",
       "       [ 0, -4,  0, -2,  0,  4,  0,  2,  4, 16, 12, 20,  0, 12,  0,  6,  2,\n",
       "        20,  6, 16],\n",
       "       [ 0,  0, -4, -3,  0,  0,  4,  3,  0,  0,  8,  6,  4,  8, 24, 25,  3,\n",
       "         6, 25, 24],\n",
       "       [ 0,  0,  0, -8,  0,  0,  0,  8,  0,  0,  0, 16,  0,  0,  0, 24,  8,\n",
       "        16, 24, 64]])"
      ]
     },
     "execution_count": 29,
     "metadata": {},
     "output_type": "execute_result"
    }
   ],
   "source": [
    "from sympy.utilities.lambdify import lambdify\n",
    "func = lambdify(x, Term1,'numpy')\n",
    "func(1,2,3,4)"
   ]
  },
  {
   "cell_type": "code",
   "execution_count": null,
   "metadata": {
    "collapsed": true
   },
   "outputs": [],
   "source": []
  },
  {
   "cell_type": "code",
   "execution_count": null,
   "metadata": {
    "collapsed": true
   },
   "outputs": [],
   "source": []
  }
 ],
 "metadata": {
  "kernelspec": {
   "display_name": "Python 3",
   "language": "python",
   "name": "python3"
  },
  "language_info": {
   "codemirror_mode": {
    "name": "ipython",
    "version": 3
   },
   "file_extension": ".py",
   "mimetype": "text/x-python",
   "name": "python",
   "nbconvert_exporter": "python",
   "pygments_lexer": "ipython3",
   "version": "3.5.1"
  }
 },
 "nbformat": 4,
 "nbformat_minor": 0
}
