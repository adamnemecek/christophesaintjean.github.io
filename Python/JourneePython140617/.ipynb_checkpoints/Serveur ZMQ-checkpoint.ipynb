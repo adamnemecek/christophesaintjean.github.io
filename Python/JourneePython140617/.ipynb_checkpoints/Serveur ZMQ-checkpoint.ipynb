{
 "cells": [
  {
   "cell_type": "code",
   "execution_count": null,
   "metadata": {},
   "outputs": [],
   "source": [
    "import zmq\n",
    "import numpy as np\n",
    "\n",
    "port_serveur = 6667\n",
    "context = zmq.Context()\n",
    "socket = context.socket(zmq.REP)\n",
    "socket.connect ('tcp://localhost:{}'.format(port_serveur))\n",
    "\n",
    "while True:\n",
    "    requete = socket.recv_json()\n",
    "    image = np.array(requete[\"image\"], dtype=np.uint8)\n",
    "    socket.send_json({'nb_pixels' : int(np.prod(image.shape[:2]))})"
   ]
  }
 ],
 "metadata": {
  "kernelspec": {
   "display_name": "Python 3",
   "language": "python",
   "name": "python3"
  },
  "language_info": {
   "codemirror_mode": {
    "name": "ipython",
    "version": 3
   },
   "file_extension": ".py",
   "mimetype": "text/x-python",
   "name": "python",
   "nbconvert_exporter": "python",
   "pygments_lexer": "ipython3",
   "version": "3.5.3"
  }
 },
 "nbformat": 4,
 "nbformat_minor": 2
}
