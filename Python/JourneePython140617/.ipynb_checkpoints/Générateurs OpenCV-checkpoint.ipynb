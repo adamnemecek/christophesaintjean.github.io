{
 "cells": [
  {
   "cell_type": "code",
   "execution_count": null,
   "metadata": {},
   "outputs": [],
   "source": [
    "import cv2, numpy as np, itertools as it\n",
    "from matplotlib.image import imread\n",
    "import matplotlib.pyplot as plt\n",
    "\n",
    "fichiers = ['data/dog1.jpg', 'data/dog2.jpg']\n",
    "\n",
    "images = [{'image': imread(fichier).tolist(),\n",
    "            'b_boxes': [(50, 55, 200, 400)], \n",
    "            'labels' : [10]} for fichier in fichiers]\n",
    "\n",
    "fig, ax = plt.subplots(nrows=1, ncols=len(images))\n",
    "for image, col in zip(images, range(len(images))):\n",
    "    img = np.array(image[\"image\"], dtype=np.uint8)\n",
    "    ax[col].imshow(img)"
   ]
  },
  {
   "cell_type": "code",
   "execution_count": null,
   "metadata": {
    "collapsed": true
   },
   "outputs": [],
   "source": [
    "def gen_1(imgs, vals):\n",
    "    for img, val in it.product(imgs, vals):\n",
    "        yield img"
   ]
  },
  {
   "cell_type": "code",
   "execution_count": null,
   "metadata": {},
   "outputs": [],
   "source": [
    "def gen_2(imgs, vals):\n",
    "    for img, val in it.product(imgs, vals):\n",
    "        img_ = np.array(img[\"image\"], dtype=np.float64)\n",
    "        img_ = np.dstack([img_[:,:,0], img_[:,:,0] , img_[:,:,0]]) / val \n",
    "        img[\"image\"] = img_.tolist()\n",
    "        yield img"
   ]
  },
  {
   "cell_type": "code",
   "execution_count": null,
   "metadata": {},
   "outputs": [],
   "source": [
    "images_pp = it.chain(gen_1(images, [0.8, 1]),\n",
    "                     gen_2(images, [0.8, 1, 2]))\n",
    "# Au final, on a 2 * (2 + 3) = 10 images\n",
    "fig, ax = plt.subplots(nrows=2, ncols=5)\n",
    "for idx, image in enumerate(images_pp):\n",
    "    i = idx // 5 # Get subplot row\n",
    "    j = idx % 5\n",
    "    img = np.array(image[\"image\"], dtype=np.uint8)\n",
    "    ax[i,j].imshow(img)"
   ]
  },
  {
   "cell_type": "markdown",
   "metadata": {},
   "source": [
    "## Plus sophistiqué à l'adresse:\n",
    "https://brett.is/writing/about/generator-pipelines-in-python/"
   ]
  },
  {
   "cell_type": "code",
   "execution_count": null,
   "metadata": {
    "collapsed": true
   },
   "outputs": [],
   "source": []
  }
 ],
 "metadata": {
  "kernelspec": {
   "display_name": "Python 3",
   "language": "python",
   "name": "python3"
  },
  "language_info": {
   "codemirror_mode": {
    "name": "ipython",
    "version": 3
   },
   "file_extension": ".py",
   "mimetype": "text/x-python",
   "name": "python",
   "nbconvert_exporter": "python",
   "pygments_lexer": "ipython3",
   "version": "3.5.3"
  }
 },
 "nbformat": 4,
 "nbformat_minor": 2
}
