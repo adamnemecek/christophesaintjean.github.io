{
 "cells": [
  {
   "cell_type": "code",
   "execution_count": 2,
   "metadata": {},
   "outputs": [
    {
     "name": "stdout",
     "output_type": "stream",
     "text": [
      "['data/cat1.png', 'data/cat2.png', 'data/cat4.png']\n"
     ]
    },
    {
     "data": {
      "application/vnd.jupyter.widget-view+json": {
       "model_id": "62b3a545e6494df6ba1a340b2460c907"
      }
     },
     "metadata": {},
     "output_type": "display_data"
    },
    {
     "name": "stdout",
     "output_type": "stream",
     "text": [
      "Fichier data/cat1.png : 128000 pixels\n",
      "Fichier data/cat2.png : 181500 pixels\n",
      "Fichier data/cat4.png : 66144 pixels\n",
      "\n"
     ]
    }
   ],
   "source": [
    "import zmq, glob\n",
    "from tqdm import tqdm_notebook\n",
    "from matplotlib.image import imread\n",
    "\n",
    "fichiers = glob.glob('data/*.png')\n",
    "print(fichiers)\n",
    "\n",
    "port_client = 6666\n",
    "context = zmq.Context()\n",
    "socket = context.socket(zmq.REQ)\n",
    "socket.connect ('tcp://localhost:{}'.format(port_client))\n",
    "\n",
    "for fichier in tqdm_notebook(fichiers):\n",
    "    dict_rep_client = {'image': imread(fichier).tolist(), 'p_boxes' : []}\n",
    "    socket.send_json(dict_rep_client) # Envoi requete\n",
    "    #  Get the reply.\n",
    "    reponse = socket.recv_json()\n",
    "    print('Fichier {} : {} pixels'.format(fichier, reponse['nb_pixels']))"
   ]
  },
  {
   "cell_type": "code",
   "execution_count": null,
   "metadata": {
    "collapsed": true
   },
   "outputs": [],
   "source": []
  },
  {
   "cell_type": "code",
   "execution_count": null,
   "metadata": {
    "collapsed": true
   },
   "outputs": [],
   "source": []
  }
 ],
 "metadata": {
  "kernelspec": {
   "display_name": "Python 3",
   "language": "python",
   "name": "python3"
  },
  "language_info": {
   "codemirror_mode": {
    "name": "ipython",
    "version": 3
   },
   "file_extension": ".py",
   "mimetype": "text/x-python",
   "name": "python",
   "nbconvert_exporter": "python",
   "pygments_lexer": "ipython3",
   "version": "3.5.3"
  }
 },
 "nbformat": 4,
 "nbformat_minor": 2
}
